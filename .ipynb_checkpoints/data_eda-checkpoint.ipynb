{
 "cells": [
  {
   "cell_type": "code",
   "execution_count": 2,
   "id": "1ca97878",
   "metadata": {},
   "outputs": [],
   "source": [
    "import pandas as pd\n",
    "import matplotlib.pyplot as plt\n",
    "import seaborn as sns"
   ]
  },
  {
   "cell_type": "code",
   "execution_count": 3,
   "id": "72ad2c8b",
   "metadata": {},
   "outputs": [],
   "source": [
    "df = pd.read_csv('salary_data_cleaned.csv')"
   ]
  },
  {
   "cell_type": "code",
   "execution_count": 4,
   "id": "5d350c28",
   "metadata": {},
   "outputs": [
    {
     "data": {
      "text/html": [
       "<div>\n",
       "<style scoped>\n",
       "    .dataframe tbody tr th:only-of-type {\n",
       "        vertical-align: middle;\n",
       "    }\n",
       "\n",
       "    .dataframe tbody tr th {\n",
       "        vertical-align: top;\n",
       "    }\n",
       "\n",
       "    .dataframe thead th {\n",
       "        text-align: right;\n",
       "    }\n",
       "</style>\n",
       "<table border=\"1\" class=\"dataframe\">\n",
       "  <thead>\n",
       "    <tr style=\"text-align: right;\">\n",
       "      <th></th>\n",
       "      <th>Job Title</th>\n",
       "      <th>Salary Estimate</th>\n",
       "      <th>Job Description</th>\n",
       "      <th>Rating</th>\n",
       "      <th>Company Name</th>\n",
       "      <th>Location</th>\n",
       "      <th>Size</th>\n",
       "      <th>Founded</th>\n",
       "      <th>Type of ownership</th>\n",
       "      <th>Industry</th>\n",
       "      <th>...</th>\n",
       "      <th>max_salary</th>\n",
       "      <th>avg_salary</th>\n",
       "      <th>company_txt</th>\n",
       "      <th>job_state</th>\n",
       "      <th>age</th>\n",
       "      <th>python_yn</th>\n",
       "      <th>R_yn</th>\n",
       "      <th>spark_yn</th>\n",
       "      <th>aws_yn</th>\n",
       "      <th>excel_yn</th>\n",
       "    </tr>\n",
       "  </thead>\n",
       "  <tbody>\n",
       "    <tr>\n",
       "      <th>0</th>\n",
       "      <td>Data Scientist</td>\n",
       "      <td>Employer Provided Salary:$75 Per Hour</td>\n",
       "      <td>Position Title: Newborn Screening Data Scienti...</td>\n",
       "      <td>3.2</td>\n",
       "      <td>Info Origin Inc.\\r\\n3.2</td>\n",
       "      <td>Remote</td>\n",
       "      <td>1 to 50 Employees</td>\n",
       "      <td>-1</td>\n",
       "      <td>Company - Private</td>\n",
       "      <td>-1</td>\n",
       "      <td>...</td>\n",
       "      <td>75</td>\n",
       "      <td>75.0</td>\n",
       "      <td>Info Origin Inc.\\r\\n</td>\n",
       "      <td>-1</td>\n",
       "      <td>-1</td>\n",
       "      <td>0</td>\n",
       "      <td>0</td>\n",
       "      <td>0</td>\n",
       "      <td>0</td>\n",
       "      <td>0</td>\n",
       "    </tr>\n",
       "    <tr>\n",
       "      <th>1</th>\n",
       "      <td>Data Scientist</td>\n",
       "      <td>Employer Provided Salary:$80 - $100 Per Hour</td>\n",
       "      <td>Heavy financial experience\\r\\nSQL\\r\\nBe able t...</td>\n",
       "      <td>-1.0</td>\n",
       "      <td>Intuitive Cloud</td>\n",
       "      <td>Remote</td>\n",
       "      <td>-1</td>\n",
       "      <td>-1</td>\n",
       "      <td>-1</td>\n",
       "      <td>-1</td>\n",
       "      <td>...</td>\n",
       "      <td>100</td>\n",
       "      <td>90.0</td>\n",
       "      <td>Intuitive Cloud</td>\n",
       "      <td>-1</td>\n",
       "      <td>-1</td>\n",
       "      <td>1</td>\n",
       "      <td>0</td>\n",
       "      <td>0</td>\n",
       "      <td>0</td>\n",
       "      <td>0</td>\n",
       "    </tr>\n",
       "    <tr>\n",
       "      <th>2</th>\n",
       "      <td>Data Scientist</td>\n",
       "      <td>$90K - $126K (Glassdoor est.)</td>\n",
       "      <td>Job Overview\\r\\nCalling all foodie techies! We...</td>\n",
       "      <td>3.5</td>\n",
       "      <td>Chowbus\\r\\n3.5</td>\n",
       "      <td>Chicago, IL</td>\n",
       "      <td>51 to 200 Employees</td>\n",
       "      <td>2016</td>\n",
       "      <td>Company - Private</td>\n",
       "      <td>Internet &amp; Web Services</td>\n",
       "      <td>...</td>\n",
       "      <td>126</td>\n",
       "      <td>108.0</td>\n",
       "      <td>Chowbus\\r\\n</td>\n",
       "      <td>IL</td>\n",
       "      <td>4</td>\n",
       "      <td>0</td>\n",
       "      <td>0</td>\n",
       "      <td>0</td>\n",
       "      <td>0</td>\n",
       "      <td>0</td>\n",
       "    </tr>\n",
       "    <tr>\n",
       "      <th>3</th>\n",
       "      <td>Sr. Data Scientist</td>\n",
       "      <td>Employer Provided Salary:$80 - $90 Per Hour</td>\n",
       "      <td>Bachelor's degree in statistics, applied mathe...</td>\n",
       "      <td>4.8</td>\n",
       "      <td>AGM Tech Solutions\\r\\n4.8</td>\n",
       "      <td>Remote</td>\n",
       "      <td>51 to 200 Employees</td>\n",
       "      <td>2018</td>\n",
       "      <td>Company - Private</td>\n",
       "      <td>HR Consulting</td>\n",
       "      <td>...</td>\n",
       "      <td>90</td>\n",
       "      <td>85.0</td>\n",
       "      <td>AGM Tech Solutions\\r\\n</td>\n",
       "      <td>-1</td>\n",
       "      <td>2</td>\n",
       "      <td>1</td>\n",
       "      <td>0</td>\n",
       "      <td>0</td>\n",
       "      <td>0</td>\n",
       "      <td>0</td>\n",
       "    </tr>\n",
       "    <tr>\n",
       "      <th>4</th>\n",
       "      <td>Data Scientist (Remote)</td>\n",
       "      <td>Employer Provided Salary:$88K - $220K</td>\n",
       "      <td>At Yelp, it’s our mission to connect people wi...</td>\n",
       "      <td>3.5</td>\n",
       "      <td>Yelp\\r\\n3.5</td>\n",
       "      <td>Remote</td>\n",
       "      <td>5001 to 10000 Employees</td>\n",
       "      <td>2004</td>\n",
       "      <td>Company - Public</td>\n",
       "      <td>Internet &amp; Web Services</td>\n",
       "      <td>...</td>\n",
       "      <td>220</td>\n",
       "      <td>154.0</td>\n",
       "      <td>Yelp\\r\\n</td>\n",
       "      <td>-1</td>\n",
       "      <td>16</td>\n",
       "      <td>0</td>\n",
       "      <td>0</td>\n",
       "      <td>0</td>\n",
       "      <td>0</td>\n",
       "      <td>0</td>\n",
       "    </tr>\n",
       "  </tbody>\n",
       "</table>\n",
       "<p>5 rows × 25 columns</p>\n",
       "</div>"
      ],
      "text/plain": [
       "                 Job Title                               Salary Estimate  \\\n",
       "0           Data Scientist         Employer Provided Salary:$75 Per Hour   \n",
       "1           Data Scientist  Employer Provided Salary:$80 - $100 Per Hour   \n",
       "2           Data Scientist                 $90K - $126K (Glassdoor est.)   \n",
       "3       Sr. Data Scientist   Employer Provided Salary:$80 - $90 Per Hour   \n",
       "4  Data Scientist (Remote)         Employer Provided Salary:$88K - $220K   \n",
       "\n",
       "                                     Job Description  Rating  \\\n",
       "0  Position Title: Newborn Screening Data Scienti...     3.2   \n",
       "1  Heavy financial experience\\r\\nSQL\\r\\nBe able t...    -1.0   \n",
       "2  Job Overview\\r\\nCalling all foodie techies! We...     3.5   \n",
       "3  Bachelor's degree in statistics, applied mathe...     4.8   \n",
       "4  At Yelp, it’s our mission to connect people wi...     3.5   \n",
       "\n",
       "                Company Name     Location                     Size  Founded  \\\n",
       "0    Info Origin Inc.\\r\\n3.2       Remote        1 to 50 Employees       -1   \n",
       "1            Intuitive Cloud       Remote                       -1       -1   \n",
       "2             Chowbus\\r\\n3.5  Chicago, IL      51 to 200 Employees     2016   \n",
       "3  AGM Tech Solutions\\r\\n4.8       Remote      51 to 200 Employees     2018   \n",
       "4                Yelp\\r\\n3.5       Remote  5001 to 10000 Employees     2004   \n",
       "\n",
       "   Type of ownership                 Industry  ... max_salary avg_salary  \\\n",
       "0  Company - Private                       -1  ...         75       75.0   \n",
       "1                 -1                       -1  ...        100       90.0   \n",
       "2  Company - Private  Internet & Web Services  ...        126      108.0   \n",
       "3  Company - Private            HR Consulting  ...         90       85.0   \n",
       "4   Company - Public  Internet & Web Services  ...        220      154.0   \n",
       "\n",
       "              company_txt  job_state  age  python_yn  R_yn spark_yn aws_yn  \\\n",
       "0    Info Origin Inc.\\r\\n         -1   -1          0     0        0      0   \n",
       "1         Intuitive Cloud         -1   -1          1     0        0      0   \n",
       "2             Chowbus\\r\\n         IL    4          0     0        0      0   \n",
       "3  AGM Tech Solutions\\r\\n         -1    2          1     0        0      0   \n",
       "4                Yelp\\r\\n         -1   16          0     0        0      0   \n",
       "\n",
       "   excel_yn  \n",
       "0         0  \n",
       "1         0  \n",
       "2         0  \n",
       "3         0  \n",
       "4         0  \n",
       "\n",
       "[5 rows x 25 columns]"
      ]
     },
     "execution_count": 4,
     "metadata": {},
     "output_type": "execute_result"
    }
   ],
   "source": [
    "df.head()"
   ]
  },
  {
   "cell_type": "code",
   "execution_count": 5,
   "id": "ad10edaf",
   "metadata": {},
   "outputs": [
    {
     "data": {
      "text/plain": [
       "Index(['Job Title', 'Salary Estimate', 'Job Description', 'Rating',\n",
       "       'Company Name', 'Location', 'Size', 'Founded', 'Type of ownership',\n",
       "       'Industry', 'Sector', 'Revenue', 'hourly', 'employer_provided',\n",
       "       'min_salary', 'max_salary', 'avg_salary', 'company_txt', 'job_state',\n",
       "       'age', 'python_yn', 'R_yn', 'spark_yn', 'aws_yn', 'excel_yn'],\n",
       "      dtype='object')"
      ]
     },
     "execution_count": 5,
     "metadata": {},
     "output_type": "execute_result"
    }
   ],
   "source": [
    "df.columns"
   ]
  },
  {
   "cell_type": "code",
   "execution_count": 6,
   "id": "4a659eb3",
   "metadata": {},
   "outputs": [],
   "source": [
    "def title_simplifier(title):\n",
    "    if 'data scientist' in title.lower():\n",
    "        return 'data scientist'\n",
    "    elif 'data engineer' in title.lower():\n",
    "        return 'data engineer'\n",
    "    elif 'analyst' in title.lower():\n",
    "        return 'analyst'\n",
    "    elif 'machine learning' in title.lower():\n",
    "        return 'mle'\n",
    "    elif 'manager' in title.lower():\n",
    "        return 'manager'\n",
    "    elif 'director' in title.lower():\n",
    "        return 'director'\n",
    "    else:\n",
    "        return 'na'\n",
    "    \n",
    "def seniority(title):\n",
    "    if 'sr' in title.lower() or 'senior' in title.lower() or 'sr' in title.lower() or 'lead' in title.lower() or 'principal' in title.lower():\n",
    "            return 'senior'\n",
    "    elif 'jr' in title.lower() or 'jr.' in title.lower():\n",
    "        return 'jr'\n",
    "    else:\n",
    "        return 'na'\n",
    "\t\t\n",
    "## Job title and seniority \n",
    "\t\t\n",
    "##  Fix state Los Angeles \n",
    "\n",
    "##  Job description length \n",
    "\n",
    "##  Competitor count\n",
    "\n",
    "## hourly wage to annual \n",
    "\n",
    "#remove new line from job title"
   ]
  },
  {
   "cell_type": "code",
   "execution_count": 7,
   "id": "05e0f309",
   "metadata": {},
   "outputs": [],
   "source": [
    "df['job_simp'] = df['Job Title'].apply(title_simplifier)"
   ]
  },
  {
   "cell_type": "code",
   "execution_count": 8,
   "id": "f3ab6896",
   "metadata": {},
   "outputs": [
    {
     "data": {
      "text/plain": [
       "data scientist    191\n",
       "na                  4\n",
       "Name: job_simp, dtype: int64"
      ]
     },
     "execution_count": 8,
     "metadata": {},
     "output_type": "execute_result"
    }
   ],
   "source": [
    "df.job_simp.value_counts()"
   ]
  },
  {
   "cell_type": "code",
   "execution_count": 9,
   "id": "646900e9",
   "metadata": {},
   "outputs": [
    {
     "data": {
      "text/plain": [
       "na        169\n",
       "jr         20\n",
       "senior      6\n",
       "Name: seniority, dtype: int64"
      ]
     },
     "execution_count": 9,
     "metadata": {},
     "output_type": "execute_result"
    }
   ],
   "source": [
    "df['seniority'] = df['Job Title'].apply(seniority)\n",
    "df.seniority.value_counts()"
   ]
  },
  {
   "cell_type": "code",
   "execution_count": 10,
   "id": "c54e8ed8",
   "metadata": {},
   "outputs": [
    {
     "data": {
      "text/plain": [
       "CA    47\n",
       "-1    46\n",
       "NY    32\n",
       "GA    15\n",
       "MA     9\n",
       "WA     5\n",
       "CO     5\n",
       "TX     5\n",
       "CT     5\n",
       "MD     4\n",
       "VA     4\n",
       "NJ     4\n",
       "FL     3\n",
       "UT     3\n",
       "IL     2\n",
       "MT     2\n",
       "PA     1\n",
       "WI     1\n",
       "MN     1\n",
       "NM     1\n",
       "Name: job_state, dtype: int64"
      ]
     },
     "execution_count": 10,
     "metadata": {},
     "output_type": "execute_result"
    }
   ],
   "source": [
    "# Fix state Los Angeles \n",
    "df['job_state']= df.job_state.apply(lambda x: x.strip() if x.strip().lower() != 'los angeles' else 'CA')\n",
    "df.job_state.value_counts()"
   ]
  },
  {
   "cell_type": "code",
   "execution_count": 11,
   "id": "2c83aff7",
   "metadata": {},
   "outputs": [
    {
     "data": {
      "text/plain": [
       "0       571\n",
       "1       229\n",
       "2       674\n",
       "3      1161\n",
       "4      1218\n",
       "       ... \n",
       "190     867\n",
       "191     516\n",
       "192     922\n",
       "193    1889\n",
       "194    1031\n",
       "Name: desc_len, Length: 195, dtype: int64"
      ]
     },
     "execution_count": 11,
     "metadata": {},
     "output_type": "execute_result"
    }
   ],
   "source": [
    "#  Job description length \n",
    "df['desc_len'] = df['Job Description'].apply(lambda x: len(x))\n",
    "df['desc_len']"
   ]
  },
  {
   "cell_type": "code",
   "execution_count": 12,
   "id": "782a0255",
   "metadata": {},
   "outputs": [],
   "source": [
    "#hourly wage to annual \n",
    "\n",
    "df['min_salary'] = df.apply(lambda x: x.min_salary*2 if x.hourly ==1 else x.min_salary, axis =1)\n",
    "df['max_salary'] = df.apply(lambda x: x.max_salary*2 if x.hourly ==1 else x.max_salary, axis =1)"
   ]
  },
  {
   "cell_type": "code",
   "execution_count": 13,
   "id": "26a0ed48",
   "metadata": {},
   "outputs": [
    {
     "data": {
      "text/html": [
       "<div>\n",
       "<style scoped>\n",
       "    .dataframe tbody tr th:only-of-type {\n",
       "        vertical-align: middle;\n",
       "    }\n",
       "\n",
       "    .dataframe tbody tr th {\n",
       "        vertical-align: top;\n",
       "    }\n",
       "\n",
       "    .dataframe thead th {\n",
       "        text-align: right;\n",
       "    }\n",
       "</style>\n",
       "<table border=\"1\" class=\"dataframe\">\n",
       "  <thead>\n",
       "    <tr style=\"text-align: right;\">\n",
       "      <th></th>\n",
       "      <th>hourly</th>\n",
       "      <th>min_salary</th>\n",
       "      <th>max_salary</th>\n",
       "    </tr>\n",
       "  </thead>\n",
       "  <tbody>\n",
       "    <tr>\n",
       "      <th>0</th>\n",
       "      <td>1</td>\n",
       "      <td>150</td>\n",
       "      <td>150</td>\n",
       "    </tr>\n",
       "    <tr>\n",
       "      <th>1</th>\n",
       "      <td>1</td>\n",
       "      <td>160</td>\n",
       "      <td>200</td>\n",
       "    </tr>\n",
       "    <tr>\n",
       "      <th>3</th>\n",
       "      <td>1</td>\n",
       "      <td>160</td>\n",
       "      <td>180</td>\n",
       "    </tr>\n",
       "    <tr>\n",
       "      <th>6</th>\n",
       "      <td>1</td>\n",
       "      <td>90</td>\n",
       "      <td>100</td>\n",
       "    </tr>\n",
       "    <tr>\n",
       "      <th>11</th>\n",
       "      <td>1</td>\n",
       "      <td>140</td>\n",
       "      <td>160</td>\n",
       "    </tr>\n",
       "    <tr>\n",
       "      <th>12</th>\n",
       "      <td>1</td>\n",
       "      <td>180</td>\n",
       "      <td>210</td>\n",
       "    </tr>\n",
       "    <tr>\n",
       "      <th>16</th>\n",
       "      <td>1</td>\n",
       "      <td>170</td>\n",
       "      <td>170</td>\n",
       "    </tr>\n",
       "    <tr>\n",
       "      <th>20</th>\n",
       "      <td>1</td>\n",
       "      <td>142</td>\n",
       "      <td>142</td>\n",
       "    </tr>\n",
       "  </tbody>\n",
       "</table>\n",
       "</div>"
      ],
      "text/plain": [
       "    hourly  min_salary  max_salary\n",
       "0        1         150         150\n",
       "1        1         160         200\n",
       "3        1         160         180\n",
       "6        1          90         100\n",
       "11       1         140         160\n",
       "12       1         180         210\n",
       "16       1         170         170\n",
       "20       1         142         142"
      ]
     },
     "execution_count": 13,
     "metadata": {},
     "output_type": "execute_result"
    }
   ],
   "source": [
    "df[df.hourly ==1][['hourly','min_salary','max_salary']]"
   ]
  },
  {
   "cell_type": "code",
   "execution_count": 16,
   "id": "1e2229a2",
   "metadata": {},
   "outputs": [],
   "source": [
    "df['company_txt'] = df.company_txt.apply(lambda x: x.replace('\\n', ''))\n",
    "df['company_txt'] = df.company_txt.apply(lambda x: x.replace('\\r', ''))"
   ]
  },
  {
   "cell_type": "code",
   "execution_count": 17,
   "id": "67bec359",
   "metadata": {},
   "outputs": [
    {
     "data": {
      "text/plain": [
       "0            Info Origin Inc.\n",
       "1             Intuitive Cloud\n",
       "2                     Chowbus\n",
       "3          AGM Tech Solutions\n",
       "4                        Yelp\n",
       "                ...          \n",
       "190                ClosedLoop\n",
       "191                     Amgen\n",
       "192                     Acima\n",
       "193          Home Depot / THD\n",
       "194    Yorktown Systems Group\n",
       "Name: company_txt, Length: 195, dtype: object"
      ]
     },
     "execution_count": 17,
     "metadata": {},
     "output_type": "execute_result"
    }
   ],
   "source": [
    "df['company_txt']"
   ]
  },
  {
   "cell_type": "code",
   "execution_count": 18,
   "id": "fb5b8cf8",
   "metadata": {},
   "outputs": [
    {
     "data": {
      "text/html": [
       "<div>\n",
       "<style scoped>\n",
       "    .dataframe tbody tr th:only-of-type {\n",
       "        vertical-align: middle;\n",
       "    }\n",
       "\n",
       "    .dataframe tbody tr th {\n",
       "        vertical-align: top;\n",
       "    }\n",
       "\n",
       "    .dataframe thead th {\n",
       "        text-align: right;\n",
       "    }\n",
       "</style>\n",
       "<table border=\"1\" class=\"dataframe\">\n",
       "  <thead>\n",
       "    <tr style=\"text-align: right;\">\n",
       "      <th></th>\n",
       "      <th>Rating</th>\n",
       "      <th>Founded</th>\n",
       "      <th>hourly</th>\n",
       "      <th>employer_provided</th>\n",
       "      <th>min_salary</th>\n",
       "      <th>max_salary</th>\n",
       "      <th>avg_salary</th>\n",
       "      <th>age</th>\n",
       "      <th>python_yn</th>\n",
       "      <th>R_yn</th>\n",
       "      <th>spark_yn</th>\n",
       "      <th>aws_yn</th>\n",
       "      <th>excel_yn</th>\n",
       "      <th>desc_len</th>\n",
       "    </tr>\n",
       "  </thead>\n",
       "  <tbody>\n",
       "    <tr>\n",
       "      <th>count</th>\n",
       "      <td>195.000000</td>\n",
       "      <td>195.000000</td>\n",
       "      <td>195.000000</td>\n",
       "      <td>195.000000</td>\n",
       "      <td>195.000000</td>\n",
       "      <td>195.000000</td>\n",
       "      <td>195.000000</td>\n",
       "      <td>195.000000</td>\n",
       "      <td>195.000000</td>\n",
       "      <td>195.0</td>\n",
       "      <td>195.000000</td>\n",
       "      <td>195.000000</td>\n",
       "      <td>195.000000</td>\n",
       "      <td>195.000000</td>\n",
       "    </tr>\n",
       "    <tr>\n",
       "      <th>mean</th>\n",
       "      <td>3.542564</td>\n",
       "      <td>1499.676923</td>\n",
       "      <td>0.041026</td>\n",
       "      <td>0.087179</td>\n",
       "      <td>80.687179</td>\n",
       "      <td>147.574359</td>\n",
       "      <td>110.920513</td>\n",
       "      <td>43.338462</td>\n",
       "      <td>0.107692</td>\n",
       "      <td>0.0</td>\n",
       "      <td>0.015385</td>\n",
       "      <td>0.041026</td>\n",
       "      <td>0.041026</td>\n",
       "      <td>1066.625641</td>\n",
       "    </tr>\n",
       "    <tr>\n",
       "      <th>std</th>\n",
       "      <td>1.486428</td>\n",
       "      <td>837.255669</td>\n",
       "      <td>0.198860</td>\n",
       "      <td>0.282824</td>\n",
       "      <td>18.657510</td>\n",
       "      <td>17.533131</td>\n",
       "      <td>11.972696</td>\n",
       "      <td>52.586486</td>\n",
       "      <td>0.310789</td>\n",
       "      <td>0.0</td>\n",
       "      <td>0.123394</td>\n",
       "      <td>0.198860</td>\n",
       "      <td>0.198860</td>\n",
       "      <td>903.677617</td>\n",
       "    </tr>\n",
       "    <tr>\n",
       "      <th>min</th>\n",
       "      <td>-1.000000</td>\n",
       "      <td>-1.000000</td>\n",
       "      <td>0.000000</td>\n",
       "      <td>0.000000</td>\n",
       "      <td>55.000000</td>\n",
       "      <td>60.000000</td>\n",
       "      <td>47.500000</td>\n",
       "      <td>-1.000000</td>\n",
       "      <td>0.000000</td>\n",
       "      <td>0.0</td>\n",
       "      <td>0.000000</td>\n",
       "      <td>0.000000</td>\n",
       "      <td>0.000000</td>\n",
       "      <td>59.000000</td>\n",
       "    </tr>\n",
       "    <tr>\n",
       "      <th>25%</th>\n",
       "      <td>3.500000</td>\n",
       "      <td>1831.000000</td>\n",
       "      <td>0.000000</td>\n",
       "      <td>0.000000</td>\n",
       "      <td>73.000000</td>\n",
       "      <td>152.000000</td>\n",
       "      <td>112.500000</td>\n",
       "      <td>2.000000</td>\n",
       "      <td>0.000000</td>\n",
       "      <td>0.0</td>\n",
       "      <td>0.000000</td>\n",
       "      <td>0.000000</td>\n",
       "      <td>0.000000</td>\n",
       "      <td>552.000000</td>\n",
       "    </tr>\n",
       "    <tr>\n",
       "      <th>50%</th>\n",
       "      <td>3.900000</td>\n",
       "      <td>1945.000000</td>\n",
       "      <td>0.000000</td>\n",
       "      <td>0.000000</td>\n",
       "      <td>73.000000</td>\n",
       "      <td>152.000000</td>\n",
       "      <td>112.500000</td>\n",
       "      <td>20.000000</td>\n",
       "      <td>0.000000</td>\n",
       "      <td>0.0</td>\n",
       "      <td>0.000000</td>\n",
       "      <td>0.000000</td>\n",
       "      <td>0.000000</td>\n",
       "      <td>859.000000</td>\n",
       "    </tr>\n",
       "    <tr>\n",
       "      <th>75%</th>\n",
       "      <td>4.200000</td>\n",
       "      <td>2004.500000</td>\n",
       "      <td>0.000000</td>\n",
       "      <td>0.000000</td>\n",
       "      <td>87.500000</td>\n",
       "      <td>152.000000</td>\n",
       "      <td>112.500000</td>\n",
       "      <td>76.500000</td>\n",
       "      <td>0.000000</td>\n",
       "      <td>0.0</td>\n",
       "      <td>0.000000</td>\n",
       "      <td>0.000000</td>\n",
       "      <td>0.000000</td>\n",
       "      <td>1169.500000</td>\n",
       "    </tr>\n",
       "    <tr>\n",
       "      <th>max</th>\n",
       "      <td>5.000000</td>\n",
       "      <td>2018.000000</td>\n",
       "      <td>1.000000</td>\n",
       "      <td>1.000000</td>\n",
       "      <td>180.000000</td>\n",
       "      <td>230.000000</td>\n",
       "      <td>185.000000</td>\n",
       "      <td>192.000000</td>\n",
       "      <td>1.000000</td>\n",
       "      <td>0.0</td>\n",
       "      <td>1.000000</td>\n",
       "      <td>1.000000</td>\n",
       "      <td>1.000000</td>\n",
       "      <td>5703.000000</td>\n",
       "    </tr>\n",
       "  </tbody>\n",
       "</table>\n",
       "</div>"
      ],
      "text/plain": [
       "           Rating      Founded      hourly  employer_provided  min_salary  \\\n",
       "count  195.000000   195.000000  195.000000         195.000000  195.000000   \n",
       "mean     3.542564  1499.676923    0.041026           0.087179   80.687179   \n",
       "std      1.486428   837.255669    0.198860           0.282824   18.657510   \n",
       "min     -1.000000    -1.000000    0.000000           0.000000   55.000000   \n",
       "25%      3.500000  1831.000000    0.000000           0.000000   73.000000   \n",
       "50%      3.900000  1945.000000    0.000000           0.000000   73.000000   \n",
       "75%      4.200000  2004.500000    0.000000           0.000000   87.500000   \n",
       "max      5.000000  2018.000000    1.000000           1.000000  180.000000   \n",
       "\n",
       "       max_salary  avg_salary         age   python_yn   R_yn    spark_yn  \\\n",
       "count  195.000000  195.000000  195.000000  195.000000  195.0  195.000000   \n",
       "mean   147.574359  110.920513   43.338462    0.107692    0.0    0.015385   \n",
       "std     17.533131   11.972696   52.586486    0.310789    0.0    0.123394   \n",
       "min     60.000000   47.500000   -1.000000    0.000000    0.0    0.000000   \n",
       "25%    152.000000  112.500000    2.000000    0.000000    0.0    0.000000   \n",
       "50%    152.000000  112.500000   20.000000    0.000000    0.0    0.000000   \n",
       "75%    152.000000  112.500000   76.500000    0.000000    0.0    0.000000   \n",
       "max    230.000000  185.000000  192.000000    1.000000    0.0    1.000000   \n",
       "\n",
       "           aws_yn    excel_yn     desc_len  \n",
       "count  195.000000  195.000000   195.000000  \n",
       "mean     0.041026    0.041026  1066.625641  \n",
       "std      0.198860    0.198860   903.677617  \n",
       "min      0.000000    0.000000    59.000000  \n",
       "25%      0.000000    0.000000   552.000000  \n",
       "50%      0.000000    0.000000   859.000000  \n",
       "75%      0.000000    0.000000  1169.500000  \n",
       "max      1.000000    1.000000  5703.000000  "
      ]
     },
     "execution_count": 18,
     "metadata": {},
     "output_type": "execute_result"
    }
   ],
   "source": [
    "df.describe()"
   ]
  },
  {
   "cell_type": "code",
   "execution_count": 20,
   "id": "5aecc167",
   "metadata": {},
   "outputs": [
    {
     "data": {
      "text/plain": [
       "Index(['Job Title', 'Salary Estimate', 'Job Description', 'Rating',\n",
       "       'Company Name', 'Location', 'Size', 'Founded', 'Type of ownership',\n",
       "       'Industry', 'Sector', 'Revenue', 'hourly', 'employer_provided',\n",
       "       'min_salary', 'max_salary', 'avg_salary', 'company_txt', 'job_state',\n",
       "       'age', 'python_yn', 'R_yn', 'spark_yn', 'aws_yn', 'excel_yn',\n",
       "       'job_simp', 'seniority', 'desc_len'],\n",
       "      dtype='object')"
      ]
     },
     "execution_count": 20,
     "metadata": {},
     "output_type": "execute_result"
    }
   ],
   "source": [
    "df.columns"
   ]
  },
  {
   "cell_type": "code",
   "execution_count": 21,
   "id": "01497258",
   "metadata": {},
   "outputs": [
    {
     "data": {
      "text/plain": [
       "<AxesSubplot:>"
      ]
     },
     "execution_count": 21,
     "metadata": {},
     "output_type": "execute_result"
    },
    {
     "data": {
      "image/png": "[encoded data removed]",
      "text/plain": [
       "<Figure size 432x288 with 1 Axes>"
      ]
     },
     "metadata": {
      "needs_background": "light"
     },
     "output_type": "display_data"
    }
   ],
   "source": [
    "df.Rating.hist()"
   ]
  },
  {
   "cell_type": "code",
   "execution_count": 22,
   "id": "1dcbf6f2",
   "metadata": {},
   "outputs": [
    {
     "data": {
      "text/plain": [
       "<AxesSubplot:>"
      ]
     },
     "execution_count": 22,
     "metadata": {},
     "output_type": "execute_result"
    },
    {
     "data": {
      "image/png": "[encoded data removed]",
      "text/plain": [
       "<Figure size 432x288 with 1 Axes>"
      ]
     },
     "metadata": {
      "needs_background": "light"
     },
     "output_type": "display_data"
    }
   ],
   "source": [
    "df.avg_salary.hist()"
   ]
  },
  {
   "cell_type": "code",
   "execution_count": 23,
   "id": "e48447db",
   "metadata": {},
   "outputs": [
    {
     "data": {
      "text/plain": [
       "<AxesSubplot:>"
      ]
     },
     "execution_count": 23,
     "metadata": {},
     "output_type": "execute_result"
    },
    {
     "data": {
      "image/png": "[encoded data removed]",
      "text/plain": [
       "<Figure size 432x288 with 1 Axes>"
      ]
     },
     "metadata": {
      "needs_background": "light"
     },
     "output_type": "display_data"
    }
   ],
   "source": [
    "df.age.hist()"
   ]
  },
  {
   "cell_type": "code",
   "execution_count": 24,
   "id": "78dbeb8d",
   "metadata": {},
   "outputs": [
    {
     "data": {
      "text/plain": [
       "<AxesSubplot:>"
      ]
     },
     "execution_count": 24,
     "metadata": {},
     "output_type": "execute_result"
    },
    {
     "data": {
      "image/png": "[encoded data removed]",
      "text/plain": [
       "<Figure size 432x288 with 1 Axes>"
      ]
     },
     "metadata": {
      "needs_background": "light"
     },
     "output_type": "display_data"
    }
   ],
   "source": [
    "df.desc_len.hist()"
   ]
  },
  {
   "cell_type": "code",
   "execution_count": 25,
   "id": "60a35358",
   "metadata": {},
   "outputs": [
    {
     "data": {
      "text/plain": [
       "<AxesSubplot:>"
      ]
     },
     "execution_count": 25,
     "metadata": {},
     "output_type": "execute_result"
    },
    {
     "data": {
      "image/png": "[encoded data removed]",
      "text/plain": [
       "<Figure size 432x288 with 1 Axes>"
      ]
     },
     "metadata": {
      "needs_background": "light"
     },
     "output_type": "display_data"
    }
   ],
   "source": [
    "df.boxplot(column = ['age','avg_salary','Rating'])"
   ]
  },
  {
   "cell_type": "code",
   "execution_count": null,
   "id": "61f35c47",
   "metadata": {},
   "outputs": [],
   "source": []
  }
 ],
 "metadata": {
  "kernelspec": {
   "display_name": "Python 3 (ipykernel)",
   "language": "python",
   "name": "python3"
  },
  "language_info": {
   "codemirror_mode": {
    "name": "ipython",
    "version": 3
   },
   "file_extension": ".py",
   "mimetype": "text/x-python",
   "name": "python",
   "nbconvert_exporter": "python",
   "pygments_lexer": "ipython3",
   "version": "3.9.7"
  }
 },
 "nbformat": 4,
 "nbformat_minor": 5
}

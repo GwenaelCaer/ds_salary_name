{
 "cells": [
  {
   "cell_type": "code",
   "execution_count": 62,
   "id": "9ee6012b",
   "metadata": {},
   "outputs": [],
   "source": [
    "import pandas as pd\n",
    "import matplotlib.pyplot as plt\n",
    "import seaborn as sns"
   ]
  },
  {
   "cell_type": "code",
   "execution_count": 63,
   "id": "a6eaa0d0",
   "metadata": {},
   "outputs": [],
   "source": [
    "df = pd.read_csv('salary_data_cleaned.csv')"
   ]
  },
  {
   "cell_type": "code",
   "execution_count": 64,
   "id": "18463152",
   "metadata": {},
   "outputs": [
    {
     "data": {
      "text/html": [
       "<div>\n",
       "<style scoped>\n",
       "    .dataframe tbody tr th:only-of-type {\n",
       "        vertical-align: middle;\n",
       "    }\n",
       "\n",
       "    .dataframe tbody tr th {\n",
       "        vertical-align: top;\n",
       "    }\n",
       "\n",
       "    .dataframe thead th {\n",
       "        text-align: right;\n",
       "    }\n",
       "</style>\n",
       "<table border=\"1\" class=\"dataframe\">\n",
       "  <thead>\n",
       "    <tr style=\"text-align: right;\">\n",
       "      <th></th>\n",
       "      <th>Job Title</th>\n",
       "      <th>Salary Estimate</th>\n",
       "      <th>Job Description</th>\n",
       "      <th>Rating</th>\n",
       "      <th>Company Name</th>\n",
       "      <th>Location</th>\n",
       "      <th>Size</th>\n",
       "      <th>Founded</th>\n",
       "      <th>Type of ownership</th>\n",
       "      <th>Industry</th>\n",
       "      <th>...</th>\n",
       "      <th>max_salary</th>\n",
       "      <th>avg_salary</th>\n",
       "      <th>company_txt</th>\n",
       "      <th>job_state</th>\n",
       "      <th>age</th>\n",
       "      <th>python_yn</th>\n",
       "      <th>R_yn</th>\n",
       "      <th>spark_yn</th>\n",
       "      <th>aws_yn</th>\n",
       "      <th>excel_yn</th>\n",
       "    </tr>\n",
       "  </thead>\n",
       "  <tbody>\n",
       "    <tr>\n",
       "      <th>0</th>\n",
       "      <td>Data Scientist</td>\n",
       "      <td>Employer Provided Salary:$75 Per Hour</td>\n",
       "      <td>Position Title: Newborn Screening Data Scienti...</td>\n",
       "      <td>3.2</td>\n",
       "      <td>Info Origin Inc.\\r\\n3.2</td>\n",
       "      <td>Remote</td>\n",
       "      <td>1 to 50 Employees</td>\n",
       "      <td>-1</td>\n",
       "      <td>Company - Private</td>\n",
       "      <td>-1</td>\n",
       "      <td>...</td>\n",
       "      <td>75</td>\n",
       "      <td>75.0</td>\n",
       "      <td>Info Origin Inc.\\r\\n</td>\n",
       "      <td>-1</td>\n",
       "      <td>-1</td>\n",
       "      <td>0</td>\n",
       "      <td>0</td>\n",
       "      <td>0</td>\n",
       "      <td>0</td>\n",
       "      <td>0</td>\n",
       "    </tr>\n",
       "    <tr>\n",
       "      <th>1</th>\n",
       "      <td>Data Scientist</td>\n",
       "      <td>Employer Provided Salary:$80 - $100 Per Hour</td>\n",
       "      <td>Heavy financial experience\\r\\nSQL\\r\\nBe able t...</td>\n",
       "      <td>-1.0</td>\n",
       "      <td>Intuitive Cloud</td>\n",
       "      <td>Remote</td>\n",
       "      <td>-1</td>\n",
       "      <td>-1</td>\n",
       "      <td>-1</td>\n",
       "      <td>-1</td>\n",
       "      <td>...</td>\n",
       "      <td>100</td>\n",
       "      <td>90.0</td>\n",
       "      <td>Intuitive Cloud</td>\n",
       "      <td>-1</td>\n",
       "      <td>-1</td>\n",
       "      <td>1</td>\n",
       "      <td>0</td>\n",
       "      <td>0</td>\n",
       "      <td>0</td>\n",
       "      <td>0</td>\n",
       "    </tr>\n",
       "    <tr>\n",
       "      <th>2</th>\n",
       "      <td>Data Scientist</td>\n",
       "      <td>$90K - $126K (Glassdoor est.)</td>\n",
       "      <td>Job Overview\\r\\nCalling all foodie techies! We...</td>\n",
       "      <td>3.5</td>\n",
       "      <td>Chowbus\\r\\n3.5</td>\n",
       "      <td>Chicago, IL</td>\n",
       "      <td>51 to 200 Employees</td>\n",
       "      <td>2016</td>\n",
       "      <td>Company - Private</td>\n",
       "      <td>Internet &amp; Web Services</td>\n",
       "      <td>...</td>\n",
       "      <td>126</td>\n",
       "      <td>108.0</td>\n",
       "      <td>Chowbus\\r\\n</td>\n",
       "      <td>IL</td>\n",
       "      <td>4</td>\n",
       "      <td>0</td>\n",
       "      <td>0</td>\n",
       "      <td>0</td>\n",
       "      <td>0</td>\n",
       "      <td>0</td>\n",
       "    </tr>\n",
       "    <tr>\n",
       "      <th>3</th>\n",
       "      <td>Sr. Data Scientist</td>\n",
       "      <td>Employer Provided Salary:$80 - $90 Per Hour</td>\n",
       "      <td>Bachelor's degree in statistics, applied mathe...</td>\n",
       "      <td>4.8</td>\n",
       "      <td>AGM Tech Solutions\\r\\n4.8</td>\n",
       "      <td>Remote</td>\n",
       "      <td>51 to 200 Employees</td>\n",
       "      <td>2018</td>\n",
       "      <td>Company - Private</td>\n",
       "      <td>HR Consulting</td>\n",
       "      <td>...</td>\n",
       "      <td>90</td>\n",
       "      <td>85.0</td>\n",
       "      <td>AGM Tech Solutions\\r\\n</td>\n",
       "      <td>-1</td>\n",
       "      <td>2</td>\n",
       "      <td>1</td>\n",
       "      <td>0</td>\n",
       "      <td>0</td>\n",
       "      <td>0</td>\n",
       "      <td>0</td>\n",
       "    </tr>\n",
       "    <tr>\n",
       "      <th>4</th>\n",
       "      <td>Data Scientist (Remote)</td>\n",
       "      <td>Employer Provided Salary:$88K - $220K</td>\n",
       "      <td>At Yelp, it’s our mission to connect people wi...</td>\n",
       "      <td>3.5</td>\n",
       "      <td>Yelp\\r\\n3.5</td>\n",
       "      <td>Remote</td>\n",
       "      <td>5001 to 10000 Employees</td>\n",
       "      <td>2004</td>\n",
       "      <td>Company - Public</td>\n",
       "      <td>Internet &amp; Web Services</td>\n",
       "      <td>...</td>\n",
       "      <td>220</td>\n",
       "      <td>154.0</td>\n",
       "      <td>Yelp\\r\\n</td>\n",
       "      <td>-1</td>\n",
       "      <td>16</td>\n",
       "      <td>0</td>\n",
       "      <td>0</td>\n",
       "      <td>0</td>\n",
       "      <td>0</td>\n",
       "      <td>0</td>\n",
       "    </tr>\n",
       "  </tbody>\n",
       "</table>\n",
       "<p>5 rows × 25 columns</p>\n",
       "</div>"
      ],
      "text/plain": [
       "                 Job Title                               Salary Estimate  \\\n",
       "0           Data Scientist         Employer Provided Salary:$75 Per Hour   \n",
       "1           Data Scientist  Employer Provided Salary:$80 - $100 Per Hour   \n",
       "2           Data Scientist                 $90K - $126K (Glassdoor est.)   \n",
       "3       Sr. Data Scientist   Employer Provided Salary:$80 - $90 Per Hour   \n",
       "4  Data Scientist (Remote)         Employer Provided Salary:$88K - $220K   \n",
       "\n",
       "                                     Job Description  Rating  \\\n",
       "0  Position Title: Newborn Screening Data Scienti...     3.2   \n",
       "1  Heavy financial experience\\r\\nSQL\\r\\nBe able t...    -1.0   \n",
       "2  Job Overview\\r\\nCalling all foodie techies! We...     3.5   \n",
       "3  Bachelor's degree in statistics, applied mathe...     4.8   \n",
       "4  At Yelp, it’s our mission to connect people wi...     3.5   \n",
       "\n",
       "                Company Name     Location                     Size  Founded  \\\n",
       "0    Info Origin Inc.\\r\\n3.2       Remote        1 to 50 Employees       -1   \n",
       "1            Intuitive Cloud       Remote                       -1       -1   \n",
       "2             Chowbus\\r\\n3.5  Chicago, IL      51 to 200 Employees     2016   \n",
       "3  AGM Tech Solutions\\r\\n4.8       Remote      51 to 200 Employees     2018   \n",
       "4                Yelp\\r\\n3.5       Remote  5001 to 10000 Employees     2004   \n",
       "\n",
       "   Type of ownership                 Industry  ... max_salary avg_salary  \\\n",
       "0  Company - Private                       -1  ...         75       75.0   \n",
       "1                 -1                       -1  ...        100       90.0   \n",
       "2  Company - Private  Internet & Web Services  ...        126      108.0   \n",
       "3  Company - Private            HR Consulting  ...         90       85.0   \n",
       "4   Company - Public  Internet & Web Services  ...        220      154.0   \n",
       "\n",
       "              company_txt  job_state  age  python_yn  R_yn spark_yn aws_yn  \\\n",
       "0    Info Origin Inc.\\r\\n         -1   -1          0     0        0      0   \n",
       "1         Intuitive Cloud         -1   -1          1     0        0      0   \n",
       "2             Chowbus\\r\\n         IL    4          0     0        0      0   \n",
       "3  AGM Tech Solutions\\r\\n         -1    2          1     0        0      0   \n",
       "4                Yelp\\r\\n         -1   16          0     0        0      0   \n",
       "\n",
       "   excel_yn  \n",
       "0         0  \n",
       "1         0  \n",
       "2         0  \n",
       "3         0  \n",
       "4         0  \n",
       "\n",
       "[5 rows x 25 columns]"
      ]
     },
     "execution_count": 64,
     "metadata": {},
     "output_type": "execute_result"
    }
   ],
   "source": [
    "df.head()"
   ]
  },
  {
   "cell_type": "code",
   "execution_count": 65,
   "id": "3bb64370",
   "metadata": {},
   "outputs": [
    {
     "data": {
      "text/plain": [
       "Index(['Job Title', 'Salary Estimate', 'Job Description', 'Rating',\n",
       "       'Company Name', 'Location', 'Size', 'Founded', 'Type of ownership',\n",
       "       'Industry', 'Sector', 'Revenue', 'hourly', 'employer_provided',\n",
       "       'min_salary', 'max_salary', 'avg_salary', 'company_txt', 'job_state',\n",
       "       'age', 'python_yn', 'R_yn', 'spark_yn', 'aws_yn', 'excel_yn'],\n",
       "      dtype='object')"
      ]
     },
     "execution_count": 65,
     "metadata": {},
     "output_type": "execute_result"
    }
   ],
   "source": [
    "df.columns"
   ]
  },
  {
   "cell_type": "code",
   "execution_count": 66,
   "id": "8b9ec3ec",
   "metadata": {},
   "outputs": [],
   "source": [
    "def title_simplifier(title):\n",
    "    if 'data scientist' in title.lower():\n",
    "        return 'data scientist'\n",
    "    elif 'data engineer' in title.lower():\n",
    "        return 'data engineer'\n",
    "    elif 'analyst' in title.lower():\n",
    "        return 'analyst'\n",
    "    elif 'machine learning' in title.lower():\n",
    "        return 'mle'\n",
    "    elif 'manager' in title.lower():\n",
    "        return 'manager'\n",
    "    elif 'director' in title.lower():\n",
    "        return 'director'\n",
    "    else:\n",
    "        return 'na'\n",
    "    \n",
    "def seniority(title):\n",
    "    if 'sr' in title.lower() or 'senior' in title.lower() or 'sr' in title.lower() or 'lead' in title.lower() or 'principal' in title.lower():\n",
    "            return 'senior'\n",
    "    elif 'jr' in title.lower() or 'jr.' in title.lower():\n",
    "        return 'jr'\n",
    "    else:\n",
    "        return 'na'\n",
    "\t\t\n",
    "## Job title and seniority \n",
    "\t\t\n",
    "##  Fix state Los Angeles \n",
    "\n",
    "##  Job description length \n",
    "\n",
    "##  Competitor count\n",
    "\n",
    "## hourly wage to annual \n",
    "\n",
    "#remove new line from job title"
   ]
  },
  {
   "cell_type": "code",
   "execution_count": 67,
   "id": "85e6fce2",
   "metadata": {},
   "outputs": [],
   "source": [
    "df['job_simp'] = df['Job Title'].apply(title_simplifier)"
   ]
  },
  {
   "cell_type": "code",
   "execution_count": 68,
   "id": "4f8d50c3",
   "metadata": {},
   "outputs": [
    {
     "data": {
      "text/plain": [
       "data scientist    191\n",
       "na                  4\n",
       "Name: job_simp, dtype: int64"
      ]
     },
     "execution_count": 68,
     "metadata": {},
     "output_type": "execute_result"
    }
   ],
   "source": [
    "df.job_simp.value_counts()"
   ]
  },
  {
   "cell_type": "code",
   "execution_count": 69,
   "id": "e67f2984",
   "metadata": {},
   "outputs": [
    {
     "data": {
      "text/plain": [
       "na        169\n",
       "jr         20\n",
       "senior      6\n",
       "Name: seniority, dtype: int64"
      ]
     },
     "execution_count": 69,
     "metadata": {},
     "output_type": "execute_result"
    }
   ],
   "source": [
    "df['seniority'] = df['Job Title'].apply(seniority)\n",
    "df.seniority.value_counts()"
   ]
  },
  {
   "cell_type": "code",
   "execution_count": 70,
   "id": "6b1c9642",
   "metadata": {},
   "outputs": [
    {
     "data": {
      "text/plain": [
       "CA    47\n",
       "-1    46\n",
       "NY    32\n",
       "GA    15\n",
       "MA     9\n",
       "WA     5\n",
       "CO     5\n",
       "TX     5\n",
       "CT     5\n",
       "MD     4\n",
       "VA     4\n",
       "NJ     4\n",
       "FL     3\n",
       "UT     3\n",
       "IL     2\n",
       "MT     2\n",
       "PA     1\n",
       "WI     1\n",
       "MN     1\n",
       "NM     1\n",
       "Name: job_state, dtype: int64"
      ]
     },
     "execution_count": 70,
     "metadata": {},
     "output_type": "execute_result"
    }
   ],
   "source": [
    "# Fix state Los Angeles \n",
    "df['job_state']= df.job_state.apply(lambda x: x.strip() if x.strip().lower() != 'los angeles' else 'CA')\n",
    "df.job_state.value_counts()"
   ]
  },
  {
   "cell_type": "code",
   "execution_count": 71,
   "id": "5be1cf3b",
   "metadata": {},
   "outputs": [
    {
     "data": {
      "text/plain": [
       "0       571\n",
       "1       229\n",
       "2       674\n",
       "3      1161\n",
       "4      1218\n",
       "5      1231\n",
       "6       253\n",
       "7       341\n",
       "8       867\n",
       "9       345\n",
       "10     4766\n",
       "11      432\n",
       "12      503\n",
       "13      810\n",
       "14      522\n",
       "15      647\n",
       "16      309\n",
       "17      180\n",
       "18       59\n",
       "19      871\n",
       "20      792\n",
       "21      844\n",
       "22     2347\n",
       "23     1152\n",
       "24      819\n",
       "25     1752\n",
       "26     2154\n",
       "27      764\n",
       "28     2052\n",
       "29      859\n",
       "30      806\n",
       "31     5703\n",
       "32      867\n",
       "33      516\n",
       "34     3428\n",
       "35      997\n",
       "36      833\n",
       "37      442\n",
       "38      917\n",
       "39      829\n",
       "40      978\n",
       "41     1340\n",
       "42      934\n",
       "43      218\n",
       "44      901\n",
       "45     1045\n",
       "46      549\n",
       "47      757\n",
       "48       67\n",
       "49     3519\n",
       "50      524\n",
       "51     1535\n",
       "52      733\n",
       "53      442\n",
       "54     1752\n",
       "55      806\n",
       "56      829\n",
       "57      859\n",
       "58      917\n",
       "59       67\n",
       "60     1485\n",
       "61     1164\n",
       "62      733\n",
       "63     1535\n",
       "64      524\n",
       "65      757\n",
       "66      744\n",
       "67      218\n",
       "68      982\n",
       "69      833\n",
       "70     1708\n",
       "71      764\n",
       "72     1227\n",
       "73      881\n",
       "74      269\n",
       "75     1045\n",
       "76      929\n",
       "77      922\n",
       "78      877\n",
       "79     1319\n",
       "80      637\n",
       "81     1001\n",
       "82      516\n",
       "83     1752\n",
       "84       67\n",
       "85      733\n",
       "86      442\n",
       "87     1031\n",
       "88      552\n",
       "89     1045\n",
       "90     1535\n",
       "91      218\n",
       "92      733\n",
       "93      644\n",
       "94     4450\n",
       "95      877\n",
       "96     3519\n",
       "97      516\n",
       "98     1032\n",
       "99      833\n",
       "100     719\n",
       "101     829\n",
       "102     943\n",
       "103     744\n",
       "104     547\n",
       "105    1227\n",
       "106    1485\n",
       "107    1889\n",
       "108     876\n",
       "109     752\n",
       "110    1708\n",
       "111    2141\n",
       "112    1061\n",
       "113      67\n",
       "114     442\n",
       "115    1160\n",
       "116    1045\n",
       "117     644\n",
       "118    1031\n",
       "119    4450\n",
       "120     552\n",
       "121     719\n",
       "122     829\n",
       "123     218\n",
       "124    1889\n",
       "125    1032\n",
       "126    1340\n",
       "127     943\n",
       "128     833\n",
       "129     613\n",
       "130     929\n",
       "131     617\n",
       "132    1227\n",
       "133    2329\n",
       "134     806\n",
       "135     732\n",
       "136     464\n",
       "137    1758\n",
       "138     491\n",
       "139    2141\n",
       "140    1175\n",
       "141     876\n",
       "142     752\n",
       "143    1752\n",
       "144      67\n",
       "145     442\n",
       "146    1045\n",
       "147    1031\n",
       "148    4450\n",
       "149     552\n",
       "150     644\n",
       "151    2329\n",
       "152    1032\n",
       "153     719\n",
       "154    1340\n",
       "155    1889\n",
       "156    1227\n",
       "157     876\n",
       "158    2141\n",
       "159     464\n",
       "160    1758\n",
       "161     613\n",
       "162     752\n",
       "163     494\n",
       "164    1151\n",
       "165     929\n",
       "166     617\n",
       "167     732\n",
       "168     547\n",
       "169     885\n",
       "170    1061\n",
       "171    1175\n",
       "172     126\n",
       "173    1752\n",
       "174    4766\n",
       "175    1152\n",
       "176     345\n",
       "177     264\n",
       "178      59\n",
       "179     440\n",
       "180      67\n",
       "181     442\n",
       "182    1535\n",
       "183     792\n",
       "184     180\n",
       "185    3428\n",
       "186    1045\n",
       "187     571\n",
       "188     859\n",
       "189     522\n",
       "190     867\n",
       "191     516\n",
       "192     922\n",
       "193    1889\n",
       "194    1031\n",
       "Name: desc_len, dtype: int64"
      ]
     },
     "execution_count": 71,
     "metadata": {},
     "output_type": "execute_result"
    }
   ],
   "source": [
    "#  Job description length \n",
    "df['desc_len'] = df['Job Description'].apply(lambda x: len(x))\n",
    "df['desc_len']"
   ]
  },
  {
   "cell_type": "code",
   "execution_count": 72,
   "id": "3bf17158",
   "metadata": {},
   "outputs": [],
   "source": [
    "#hourly wage to annual \n",
    "\n",
    "df['min_salary'] = df.apply(lambda x: x.min_salary*2 if x.hourly ==1 else x.min_salary, axis =1)\n",
    "df['max_salary'] = df.apply(lambda x: x.max_salary*2 if x.hourly ==1 else x.max_salary, axis =1)"
   ]
  },
  {
   "cell_type": "code",
   "execution_count": 73,
   "id": "b4d3788b",
   "metadata": {},
   "outputs": [
    {
     "data": {
      "text/html": [
       "<div>\n",
       "<style scoped>\n",
       "    .dataframe tbody tr th:only-of-type {\n",
       "        vertical-align: middle;\n",
       "    }\n",
       "\n",
       "    .dataframe tbody tr th {\n",
       "        vertical-align: top;\n",
       "    }\n",
       "\n",
       "    .dataframe thead th {\n",
       "        text-align: right;\n",
       "    }\n",
       "</style>\n",
       "<table border=\"1\" class=\"dataframe\">\n",
       "  <thead>\n",
       "    <tr style=\"text-align: right;\">\n",
       "      <th></th>\n",
       "      <th>hourly</th>\n",
       "      <th>min_salary</th>\n",
       "      <th>max_salary</th>\n",
       "    </tr>\n",
       "  </thead>\n",
       "  <tbody>\n",
       "    <tr>\n",
       "      <th>0</th>\n",
       "      <td>1</td>\n",
       "      <td>150</td>\n",
       "      <td>150</td>\n",
       "    </tr>\n",
       "    <tr>\n",
       "      <th>1</th>\n",
       "      <td>1</td>\n",
       "      <td>160</td>\n",
       "      <td>200</td>\n",
       "    </tr>\n",
       "    <tr>\n",
       "      <th>3</th>\n",
       "      <td>1</td>\n",
       "      <td>160</td>\n",
       "      <td>180</td>\n",
       "    </tr>\n",
       "    <tr>\n",
       "      <th>6</th>\n",
       "      <td>1</td>\n",
       "      <td>90</td>\n",
       "      <td>100</td>\n",
       "    </tr>\n",
       "    <tr>\n",
       "      <th>11</th>\n",
       "      <td>1</td>\n",
       "      <td>140</td>\n",
       "      <td>160</td>\n",
       "    </tr>\n",
       "    <tr>\n",
       "      <th>12</th>\n",
       "      <td>1</td>\n",
       "      <td>180</td>\n",
       "      <td>210</td>\n",
       "    </tr>\n",
       "    <tr>\n",
       "      <th>16</th>\n",
       "      <td>1</td>\n",
       "      <td>170</td>\n",
       "      <td>170</td>\n",
       "    </tr>\n",
       "    <tr>\n",
       "      <th>20</th>\n",
       "      <td>1</td>\n",
       "      <td>142</td>\n",
       "      <td>142</td>\n",
       "    </tr>\n",
       "  </tbody>\n",
       "</table>\n",
       "</div>"
      ],
      "text/plain": [
       "    hourly  min_salary  max_salary\n",
       "0        1         150         150\n",
       "1        1         160         200\n",
       "3        1         160         180\n",
       "6        1          90         100\n",
       "11       1         140         160\n",
       "12       1         180         210\n",
       "16       1         170         170\n",
       "20       1         142         142"
      ]
     },
     "execution_count": 73,
     "metadata": {},
     "output_type": "execute_result"
    }
   ],
   "source": [
    "df[df.hourly ==1][['hourly','min_salary','max_salary']]"
   ]
  },
  {
   "cell_type": "code",
   "execution_count": 74,
   "id": "cdd0ace1",
   "metadata": {},
   "outputs": [],
   "source": [
    "df['company_txt'] = df.company_txt.apply(lambda x: x.replace('\\n', ''))\n",
    "df['company_txt'] = df.company_txt.apply(lambda x: x.replace('\\r', ''))"
   ]
  },
  {
   "cell_type": "code",
   "execution_count": 75,
   "id": "0760565d",
   "metadata": {},
   "outputs": [
    {
     "data": {
      "text/plain": [
       "0                              Info Origin Inc.\n",
       "1                               Intuitive Cloud\n",
       "2                                       Chowbus\n",
       "3                            AGM Tech Solutions\n",
       "4                                          Yelp\n",
       "5                             NR Consulting LLC\n",
       "6                            STM Consulting Inc\n",
       "7                                        Kaygen\n",
       "8                         FriendFinder Networks\n",
       "9                                       Spotify\n",
       "10                                        Cigna\n",
       "11                         Denken Solutions Inc\n",
       "12             Nordic Consulting Partners, Inc.\n",
       "13                                    Altana AI\n",
       "14                          Synaty Technologies\n",
       "15                                       Augray\n",
       "16                          Zodiac Solution Inc\n",
       "17                                    Starbucks\n",
       "18                                       Retool\n",
       "19                                     LiveRamp\n",
       "20                                Mackin Talent\n",
       "21                                         IKEA\n",
       "22                               United Nations\n",
       "23                                Cisco Systems\n",
       "24                           Swell Energy, Inc.\n",
       "25                                          IBM\n",
       "26                                  CrowdStrike\n",
       "27                     HCL Global Systems, Inc.\n",
       "28                                    U.S. Bank\n",
       "29                                   Net2Aspire\n",
       "30                                        Starz\n",
       "31                                      Peraton\n",
       "32                                   ClosedLoop\n",
       "33                                        Amgen\n",
       "34                                   CVS Health\n",
       "35                                    CalypsoAI\n",
       "36                                     Pathrise\n",
       "37                          New York University\n",
       "38                                        OpenX\n",
       "39                                  Bosch Group\n",
       "40                           American Red Cross\n",
       "41                          Kraft Heinz Company\n",
       "42                     Liberty Mutual Insurance\n",
       "43                        White Plains Hospital\n",
       "44                                        Optum\n",
       "45                         TrueChoice Solutions\n",
       "46                  Marriott International, Inc\n",
       "47                           The New York Times\n",
       "48                                        Delta\n",
       "49      Blue Cross Blue Shield of Massachusetts\n",
       "50                      Verb Technology Company\n",
       "51                          Booz Allen Hamilton\n",
       "52                                FocusKPI Inc.\n",
       "53                          New York University\n",
       "54                                          IBM\n",
       "55                                        Starz\n",
       "56                                  Bosch Group\n",
       "57                                   Net2Aspire\n",
       "58                                        OpenX\n",
       "59                                        Delta\n",
       "60                              Billings Clinic\n",
       "61                                 Oscar Health\n",
       "62                                FocusKPI Inc.\n",
       "63                          Booz Allen Hamilton\n",
       "64                      Verb Technology Company\n",
       "65                           The New York Times\n",
       "66                                     KesarWeb\n",
       "67                        White Plains Hospital\n",
       "68                           Ascend Innovations\n",
       "69                                     Pathrise\n",
       "70                          Samsung Electronics\n",
       "71                     HCL Global Systems, Inc.\n",
       "72                                      Verikai\n",
       "73                                     Journera\n",
       "74                                  Emonics LLC\n",
       "75                         TrueChoice Solutions\n",
       "76                                   EVERSOURCE\n",
       "77                                        Acima\n",
       "78                                        Optum\n",
       "79                             Saransh Realtors\n",
       "80                                   Appfigures\n",
       "81                                   Stitch Fix\n",
       "82                                        Amgen\n",
       "83                                          IBM\n",
       "84                                        Delta\n",
       "85                                   Net2Aspire\n",
       "86                          New York University\n",
       "87                       Yorktown Systems Group\n",
       "88                                       Alldus\n",
       "89                         TrueChoice Solutions\n",
       "90                          Booz Allen Hamilton\n",
       "91                        White Plains Hospital\n",
       "92                                FocusKPI Inc.\n",
       "93       Lawrence Livermore National Laboratory\n",
       "94                                      Discord\n",
       "95                                        Optum\n",
       "96      Blue Cross Blue Shield of Massachusetts\n",
       "97                                        Amgen\n",
       "98                            Collins Aerospace\n",
       "99                                     Pathrise\n",
       "100                      Hilton Grand Vacations\n",
       "101                                 Bosch Group\n",
       "102                                   ASSURANCE\n",
       "103                                 Emonics LLC\n",
       "104    Johns Hopkins Applied Physics Laboratory\n",
       "105                                     Verikai\n",
       "106                             Billings Clinic\n",
       "107                            Home Depot / THD\n",
       "108                                     Verizon\n",
       "109                                    Gap Inc.\n",
       "110                         Samsung Electronics\n",
       "111        National Renewable Energy Laboratory\n",
       "112                                   Salesloft\n",
       "113                                       Delta\n",
       "114                         New York University\n",
       "115                                      TARGET\n",
       "116                        TrueChoice Solutions\n",
       "117      Lawrence Livermore National Laboratory\n",
       "118                      Yorktown Systems Group\n",
       "119                                     Discord\n",
       "120                                      Alldus\n",
       "121                      Hilton Grand Vacations\n",
       "122                                 Bosch Group\n",
       "123                       White Plains Hospital\n",
       "124                            Home Depot / THD\n",
       "125                           Collins Aerospace\n",
       "126                         Kraft Heinz Company\n",
       "127                                   ASSURANCE\n",
       "128                                    Pathrise\n",
       "129                       Norfolk Southern Corp\n",
       "130                                  EVERSOURCE\n",
       "131                           Veracity Software\n",
       "132                                     Verikai\n",
       "133                                     Parsons\n",
       "134                                       Starz\n",
       "135                             Williams Sonoma\n",
       "136                                        BICP\n",
       "137                                    Citizens\n",
       "138                                 swiftlysiri\n",
       "139        National Renewable Energy Laboratory\n",
       "140                                Ralph Lauren\n",
       "141                                     Verizon\n",
       "142                                    Gap Inc.\n",
       "143                                         IBM\n",
       "144                                       Delta\n",
       "145                         New York University\n",
       "146                        TrueChoice Solutions\n",
       "147                      Yorktown Systems Group\n",
       "148                                     Discord\n",
       "149                                      Alldus\n",
       "150      Lawrence Livermore National Laboratory\n",
       "151                                     Parsons\n",
       "152                           Collins Aerospace\n",
       "153                      Hilton Grand Vacations\n",
       "154                         Kraft Heinz Company\n",
       "155                            Home Depot / THD\n",
       "156                                     Verikai\n",
       "157                                     Verizon\n",
       "158        National Renewable Energy Laboratory\n",
       "159                                        BICP\n",
       "160                                    Citizens\n",
       "161                       Norfolk Southern Corp\n",
       "162                                    Gap Inc.\n",
       "163                     Frontier Communications\n",
       "164    Alaka`ina Foundation Family of Companies\n",
       "165                                  EVERSOURCE\n",
       "166                           Veracity Software\n",
       "167                             Williams Sonoma\n",
       "168    Johns Hopkins Applied Physics Laboratory\n",
       "169               Planned Systems International\n",
       "170                                   Salesloft\n",
       "171                                Ralph Lauren\n",
       "172                        The RiverStone Group\n",
       "173                                         IBM\n",
       "174                                       Cigna\n",
       "175                               Cisco Systems\n",
       "176                                     Spotify\n",
       "177                             Intuitive Cloud\n",
       "178                                      Retool\n",
       "179                                   KORNFERRY\n",
       "180                                       Delta\n",
       "181                         New York University\n",
       "182                         Booz Allen Hamilton\n",
       "183                               Mackin Talent\n",
       "184                                   Starbucks\n",
       "185                                  CVS Health\n",
       "186                        TrueChoice Solutions\n",
       "187                            Info Origin Inc.\n",
       "188                                  Net2Aspire\n",
       "189                         Synaty Technologies\n",
       "190                                  ClosedLoop\n",
       "191                                       Amgen\n",
       "192                                       Acima\n",
       "193                            Home Depot / THD\n",
       "194                      Yorktown Systems Group\n",
       "Name: company_txt, dtype: object"
      ]
     },
     "execution_count": 75,
     "metadata": {},
     "output_type": "execute_result"
    }
   ],
   "source": [
    "df['company_txt']"
   ]
  },
  {
   "cell_type": "code",
   "execution_count": 76,
   "id": "2c9f5a2d",
   "metadata": {},
   "outputs": [
    {
     "data": {
      "text/html": [
       "<div>\n",
       "<style scoped>\n",
       "    .dataframe tbody tr th:only-of-type {\n",
       "        vertical-align: middle;\n",
       "    }\n",
       "\n",
       "    .dataframe tbody tr th {\n",
       "        vertical-align: top;\n",
       "    }\n",
       "\n",
       "    .dataframe thead th {\n",
       "        text-align: right;\n",
       "    }\n",
       "</style>\n",
       "<table border=\"1\" class=\"dataframe\">\n",
       "  <thead>\n",
       "    <tr style=\"text-align: right;\">\n",
       "      <th></th>\n",
       "      <th>Rating</th>\n",
       "      <th>Founded</th>\n",
       "      <th>hourly</th>\n",
       "      <th>employer_provided</th>\n",
       "      <th>min_salary</th>\n",
       "      <th>max_salary</th>\n",
       "      <th>avg_salary</th>\n",
       "      <th>age</th>\n",
       "      <th>python_yn</th>\n",
       "      <th>R_yn</th>\n",
       "      <th>spark_yn</th>\n",
       "      <th>aws_yn</th>\n",
       "      <th>excel_yn</th>\n",
       "      <th>desc_len</th>\n",
       "    </tr>\n",
       "  </thead>\n",
       "  <tbody>\n",
       "    <tr>\n",
       "      <th>count</th>\n",
       "      <td>195.000000</td>\n",
       "      <td>195.000000</td>\n",
       "      <td>195.000000</td>\n",
       "      <td>195.000000</td>\n",
       "      <td>195.000000</td>\n",
       "      <td>195.000000</td>\n",
       "      <td>195.000000</td>\n",
       "      <td>195.000000</td>\n",
       "      <td>195.000000</td>\n",
       "      <td>195.0</td>\n",
       "      <td>195.000000</td>\n",
       "      <td>195.000000</td>\n",
       "      <td>195.000000</td>\n",
       "      <td>195.000000</td>\n",
       "    </tr>\n",
       "    <tr>\n",
       "      <th>mean</th>\n",
       "      <td>3.542564</td>\n",
       "      <td>1499.676923</td>\n",
       "      <td>0.041026</td>\n",
       "      <td>0.087179</td>\n",
       "      <td>80.687179</td>\n",
       "      <td>147.574359</td>\n",
       "      <td>110.920513</td>\n",
       "      <td>43.338462</td>\n",
       "      <td>0.107692</td>\n",
       "      <td>0.0</td>\n",
       "      <td>0.015385</td>\n",
       "      <td>0.041026</td>\n",
       "      <td>0.041026</td>\n",
       "      <td>1066.625641</td>\n",
       "    </tr>\n",
       "    <tr>\n",
       "      <th>std</th>\n",
       "      <td>1.486428</td>\n",
       "      <td>837.255669</td>\n",
       "      <td>0.198860</td>\n",
       "      <td>0.282824</td>\n",
       "      <td>18.657510</td>\n",
       "      <td>17.533131</td>\n",
       "      <td>11.972696</td>\n",
       "      <td>52.586486</td>\n",
       "      <td>0.310789</td>\n",
       "      <td>0.0</td>\n",
       "      <td>0.123394</td>\n",
       "      <td>0.198860</td>\n",
       "      <td>0.198860</td>\n",
       "      <td>903.677617</td>\n",
       "    </tr>\n",
       "    <tr>\n",
       "      <th>min</th>\n",
       "      <td>-1.000000</td>\n",
       "      <td>-1.000000</td>\n",
       "      <td>0.000000</td>\n",
       "      <td>0.000000</td>\n",
       "      <td>55.000000</td>\n",
       "      <td>60.000000</td>\n",
       "      <td>47.500000</td>\n",
       "      <td>-1.000000</td>\n",
       "      <td>0.000000</td>\n",
       "      <td>0.0</td>\n",
       "      <td>0.000000</td>\n",
       "      <td>0.000000</td>\n",
       "      <td>0.000000</td>\n",
       "      <td>59.000000</td>\n",
       "    </tr>\n",
       "    <tr>\n",
       "      <th>25%</th>\n",
       "      <td>3.500000</td>\n",
       "      <td>1831.000000</td>\n",
       "      <td>0.000000</td>\n",
       "      <td>0.000000</td>\n",
       "      <td>73.000000</td>\n",
       "      <td>152.000000</td>\n",
       "      <td>112.500000</td>\n",
       "      <td>2.000000</td>\n",
       "      <td>0.000000</td>\n",
       "      <td>0.0</td>\n",
       "      <td>0.000000</td>\n",
       "      <td>0.000000</td>\n",
       "      <td>0.000000</td>\n",
       "      <td>552.000000</td>\n",
       "    </tr>\n",
       "    <tr>\n",
       "      <th>50%</th>\n",
       "      <td>3.900000</td>\n",
       "      <td>1945.000000</td>\n",
       "      <td>0.000000</td>\n",
       "      <td>0.000000</td>\n",
       "      <td>73.000000</td>\n",
       "      <td>152.000000</td>\n",
       "      <td>112.500000</td>\n",
       "      <td>20.000000</td>\n",
       "      <td>0.000000</td>\n",
       "      <td>0.0</td>\n",
       "      <td>0.000000</td>\n",
       "      <td>0.000000</td>\n",
       "      <td>0.000000</td>\n",
       "      <td>859.000000</td>\n",
       "    </tr>\n",
       "    <tr>\n",
       "      <th>75%</th>\n",
       "      <td>4.200000</td>\n",
       "      <td>2004.500000</td>\n",
       "      <td>0.000000</td>\n",
       "      <td>0.000000</td>\n",
       "      <td>87.500000</td>\n",
       "      <td>152.000000</td>\n",
       "      <td>112.500000</td>\n",
       "      <td>76.500000</td>\n",
       "      <td>0.000000</td>\n",
       "      <td>0.0</td>\n",
       "      <td>0.000000</td>\n",
       "      <td>0.000000</td>\n",
       "      <td>0.000000</td>\n",
       "      <td>1169.500000</td>\n",
       "    </tr>\n",
       "    <tr>\n",
       "      <th>max</th>\n",
       "      <td>5.000000</td>\n",
       "      <td>2018.000000</td>\n",
       "      <td>1.000000</td>\n",
       "      <td>1.000000</td>\n",
       "      <td>180.000000</td>\n",
       "      <td>230.000000</td>\n",
       "      <td>185.000000</td>\n",
       "      <td>192.000000</td>\n",
       "      <td>1.000000</td>\n",
       "      <td>0.0</td>\n",
       "      <td>1.000000</td>\n",
       "      <td>1.000000</td>\n",
       "      <td>1.000000</td>\n",
       "      <td>5703.000000</td>\n",
       "    </tr>\n",
       "  </tbody>\n",
       "</table>\n",
       "</div>"
      ],
      "text/plain": [
       "           Rating      Founded      hourly  employer_provided  min_salary  \\\n",
       "count  195.000000   195.000000  195.000000         195.000000  195.000000   \n",
       "mean     3.542564  1499.676923    0.041026           0.087179   80.687179   \n",
       "std      1.486428   837.255669    0.198860           0.282824   18.657510   \n",
       "min     -1.000000    -1.000000    0.000000           0.000000   55.000000   \n",
       "25%      3.500000  1831.000000    0.000000           0.000000   73.000000   \n",
       "50%      3.900000  1945.000000    0.000000           0.000000   73.000000   \n",
       "75%      4.200000  2004.500000    0.000000           0.000000   87.500000   \n",
       "max      5.000000  2018.000000    1.000000           1.000000  180.000000   \n",
       "\n",
       "       max_salary  avg_salary         age   python_yn   R_yn    spark_yn  \\\n",
       "count  195.000000  195.000000  195.000000  195.000000  195.0  195.000000   \n",
       "mean   147.574359  110.920513   43.338462    0.107692    0.0    0.015385   \n",
       "std     17.533131   11.972696   52.586486    0.310789    0.0    0.123394   \n",
       "min     60.000000   47.500000   -1.000000    0.000000    0.0    0.000000   \n",
       "25%    152.000000  112.500000    2.000000    0.000000    0.0    0.000000   \n",
       "50%    152.000000  112.500000   20.000000    0.000000    0.0    0.000000   \n",
       "75%    152.000000  112.500000   76.500000    0.000000    0.0    0.000000   \n",
       "max    230.000000  185.000000  192.000000    1.000000    0.0    1.000000   \n",
       "\n",
       "           aws_yn    excel_yn     desc_len  \n",
       "count  195.000000  195.000000   195.000000  \n",
       "mean     0.041026    0.041026  1066.625641  \n",
       "std      0.198860    0.198860   903.677617  \n",
       "min      0.000000    0.000000    59.000000  \n",
       "25%      0.000000    0.000000   552.000000  \n",
       "50%      0.000000    0.000000   859.000000  \n",
       "75%      0.000000    0.000000  1169.500000  \n",
       "max      1.000000    1.000000  5703.000000  "
      ]
     },
     "execution_count": 76,
     "metadata": {},
     "output_type": "execute_result"
    }
   ],
   "source": [
    "df.describe()"
   ]
  },
  {
   "cell_type": "code",
   "execution_count": 77,
   "id": "b8d9516b",
   "metadata": {},
   "outputs": [
    {
     "data": {
      "text/plain": [
       "Index(['Job Title', 'Salary Estimate', 'Job Description', 'Rating',\n",
       "       'Company Name', 'Location', 'Size', 'Founded', 'Type of ownership',\n",
       "       'Industry', 'Sector', 'Revenue', 'hourly', 'employer_provided',\n",
       "       'min_salary', 'max_salary', 'avg_salary', 'company_txt', 'job_state',\n",
       "       'age', 'python_yn', 'R_yn', 'spark_yn', 'aws_yn', 'excel_yn',\n",
       "       'job_simp', 'seniority', 'desc_len'],\n",
       "      dtype='object')"
      ]
     },
     "execution_count": 77,
     "metadata": {},
     "output_type": "execute_result"
    }
   ],
   "source": [
    "df.columns"
   ]
  },
  {
   "cell_type": "code",
   "execution_count": 78,
   "id": "2a1dcd13",
   "metadata": {},
   "outputs": [
    {
     "data": {
      "text/plain": [
       "<AxesSubplot:>"
      ]
     },
     "execution_count": 78,
     "metadata": {},
     "output_type": "execute_result"
    },
    {
     "data": {
      "image/png": "[encoded data removed]",
      "text/plain": [
       "<Figure size 432x288 with 1 Axes>"
      ]
     },
     "metadata": {
      "needs_background": "light"
     },
     "output_type": "display_data"
    }
   ],
   "source": [
    "df.Rating.hist()"
   ]
  },
  {
   "cell_type": "code",
   "execution_count": 79,
   "id": "99a6dc06",
   "metadata": {},
   "outputs": [
    {
     "data": {
      "text/plain": [
       "<AxesSubplot:>"
      ]
     },
     "execution_count": 79,
     "metadata": {},
     "output_type": "execute_result"
    },
    {
     "data": {
      "image/png": "[encoded data removed]",
      "text/plain": [
       "<Figure size 432x288 with 1 Axes>"
      ]
     },
     "metadata": {
      "needs_background": "light"
     },
     "output_type": "display_data"
    }
   ],
   "source": [
    "df.avg_salary.hist()"
   ]
  },
  {
   "cell_type": "code",
   "execution_count": 80,
   "id": "7e83fe95",
   "metadata": {},
   "outputs": [
    {
     "data": {
      "text/plain": [
       "<AxesSubplot:>"
      ]
     },
     "execution_count": 80,
     "metadata": {},
     "output_type": "execute_result"
    },
    {
     "data": {
      "image/png": "[encoded data removed]",
      "text/plain": [
       "<Figure size 432x288 with 1 Axes>"
      ]
     },
     "metadata": {
      "needs_background": "light"
     },
     "output_type": "display_data"
    }
   ],
   "source": [
    "df.age.hist()"
   ]
  },
  {
   "cell_type": "code",
   "execution_count": 81,
   "id": "413b0826",
   "metadata": {},
   "outputs": [
    {
     "data": {
      "text/plain": [
       "<AxesSubplot:>"
      ]
     },
     "execution_count": 81,
     "metadata": {},
     "output_type": "execute_result"
    },
    {
     "data": {
      "image/png": "[encoded data removed]",
      "text/plain": [
       "<Figure size 432x288 with 1 Axes>"
      ]
     },
     "metadata": {
      "needs_background": "light"
     },
     "output_type": "display_data"
    }
   ],
   "source": [
    "df.desc_len.hist()"
   ]
  },
  {
   "cell_type": "code",
   "execution_count": 82,
   "id": "7ade74f0",
   "metadata": {},
   "outputs": [
    {
     "data": {
      "text/plain": [
       "<AxesSubplot:>"
      ]
     },
     "execution_count": 82,
     "metadata": {},
     "output_type": "execute_result"
    },
    {
     "data": {
      "image/png": "[encoded data removed]",
      "text/plain": [
       "<Figure size 432x288 with 1 Axes>"
      ]
     },
     "metadata": {
      "needs_background": "light"
     },
     "output_type": "display_data"
    }
   ],
   "source": [
    "df.boxplot(column = ['age','avg_salary','Rating'])"
   ]
  },
  {
   "cell_type": "code",
   "execution_count": 83,
   "id": "3ec18b6f",
   "metadata": {},
   "outputs": [
    {
     "data": {
      "text/plain": [
       "<AxesSubplot:>"
      ]
     },
     "execution_count": 83,
     "metadata": {},
     "output_type": "execute_result"
    },
    {
     "data": {
      "image/png": "[encoded data removed]",
      "text/plain": [
       "<Figure size 432x288 with 1 Axes>"
      ]
     },
     "metadata": {
      "needs_background": "light"
     },
     "output_type": "display_data"
    }
   ],
   "source": [
    "df.boxplot(column = 'Rating')"
   ]
  },
  {
   "cell_type": "code",
   "execution_count": 84,
   "id": "815d62aa",
   "metadata": {},
   "outputs": [
    {
     "data": {
      "text/html": [
       "<div>\n",
       "<style scoped>\n",
       "    .dataframe tbody tr th:only-of-type {\n",
       "        vertical-align: middle;\n",
       "    }\n",
       "\n",
       "    .dataframe tbody tr th {\n",
       "        vertical-align: top;\n",
       "    }\n",
       "\n",
       "    .dataframe thead th {\n",
       "        text-align: right;\n",
       "    }\n",
       "</style>\n",
       "<table border=\"1\" class=\"dataframe\">\n",
       "  <thead>\n",
       "    <tr style=\"text-align: right;\">\n",
       "      <th></th>\n",
       "      <th>age</th>\n",
       "      <th>avg_salary</th>\n",
       "      <th>Rating</th>\n",
       "      <th>desc_len</th>\n",
       "    </tr>\n",
       "  </thead>\n",
       "  <tbody>\n",
       "    <tr>\n",
       "      <th>age</th>\n",
       "      <td>1.000000</td>\n",
       "      <td>0.034433</td>\n",
       "      <td>0.245987</td>\n",
       "      <td>0.098257</td>\n",
       "    </tr>\n",
       "    <tr>\n",
       "      <th>avg_salary</th>\n",
       "      <td>0.034433</td>\n",
       "      <td>1.000000</td>\n",
       "      <td>-0.054913</td>\n",
       "      <td>0.039253</td>\n",
       "    </tr>\n",
       "    <tr>\n",
       "      <th>Rating</th>\n",
       "      <td>0.245987</td>\n",
       "      <td>-0.054913</td>\n",
       "      <td>1.000000</td>\n",
       "      <td>0.091617</td>\n",
       "    </tr>\n",
       "    <tr>\n",
       "      <th>desc_len</th>\n",
       "      <td>0.098257</td>\n",
       "      <td>0.039253</td>\n",
       "      <td>0.091617</td>\n",
       "      <td>1.000000</td>\n",
       "    </tr>\n",
       "  </tbody>\n",
       "</table>\n",
       "</div>"
      ],
      "text/plain": [
       "                 age  avg_salary    Rating  desc_len\n",
       "age         1.000000    0.034433  0.245987  0.098257\n",
       "avg_salary  0.034433    1.000000 -0.054913  0.039253\n",
       "Rating      0.245987   -0.054913  1.000000  0.091617\n",
       "desc_len    0.098257    0.039253  0.091617  1.000000"
      ]
     },
     "execution_count": 84,
     "metadata": {},
     "output_type": "execute_result"
    }
   ],
   "source": [
    "df[['age','avg_salary','Rating','desc_len']].corr()"
   ]
  },
  {
   "cell_type": "code",
   "execution_count": 85,
   "id": "8ddf1c4e",
   "metadata": {},
   "outputs": [
    {
     "data": {
      "text/plain": [
       "<AxesSubplot:>"
      ]
     },
     "execution_count": 85,
     "metadata": {},
     "output_type": "execute_result"
    },
    {
     "data": {
      "image/png": "[encoded data removed]",
      "text/plain": [
       "<Figure size 432x288 with 2 Axes>"
      ]
     },
     "metadata": {
      "needs_background": "light"
     },
     "output_type": "display_data"
    }
   ],
   "source": [
    "cmap = sns.diverging_palette(220, 10, as_cmap=True)\n",
    "sns.heatmap(df[['age','avg_salary','Rating','desc_len']].corr(),vmax=0.3, center=0, cmap=cmap,\n",
    "            square=True, linewidths=.5, cbar_kws={\"shrink\": .5})"
   ]
  },
  {
   "cell_type": "code",
   "execution_count": 86,
   "id": "1301bdf2",
   "metadata": {},
   "outputs": [
    {
     "data": {
      "text/plain": [
       "Index(['Job Title', 'Salary Estimate', 'Job Description', 'Rating',\n",
       "       'Company Name', 'Location', 'Size', 'Founded', 'Type of ownership',\n",
       "       'Industry', 'Sector', 'Revenue', 'hourly', 'employer_provided',\n",
       "       'min_salary', 'max_salary', 'avg_salary', 'company_txt', 'job_state',\n",
       "       'age', 'python_yn', 'R_yn', 'spark_yn', 'aws_yn', 'excel_yn',\n",
       "       'job_simp', 'seniority', 'desc_len'],\n",
       "      dtype='object')"
      ]
     },
     "execution_count": 86,
     "metadata": {},
     "output_type": "execute_result"
    }
   ],
   "source": [
    "df.columns"
   ]
  },
  {
   "cell_type": "code",
   "execution_count": 87,
   "id": "24dad73a",
   "metadata": {},
   "outputs": [],
   "source": [
    "df_cat = df[['Location', 'Size','Type of ownership', 'Industry', 'Sector', 'Revenue', 'company_txt', 'job_state', 'python_yn', 'R_yn', 'spark_yn', 'aws_yn', 'excel_yn', 'job_simp', 'seniority']]"
   ]
  },
  {
   "cell_type": "code",
   "execution_count": 88,
   "id": "36819ccc",
   "metadata": {},
   "outputs": [
    {
     "name": "stdout",
     "output_type": "stream",
     "text": [
      "graph for Location: total = 45\n"
     ]
    },
    {
     "data": {
      "image/png": "[encoded data removed]",
      "text/plain": [
       "<Figure size 432x288 with 1 Axes>"
      ]
     },
     "metadata": {
      "needs_background": "light"
     },
     "output_type": "display_data"
    },
    {
     "name": "stdout",
     "output_type": "stream",
     "text": [
      "graph for Size: total = 9\n"
     ]
    },
    {
     "data": {
      "image/png": "[encoded data removed]",
      "text/plain": [
       "<Figure size 432x288 with 1 Axes>"
      ]
     },
     "metadata": {
      "needs_background": "light"
     },
     "output_type": "display_data"
    },
    {
     "name": "stdout",
     "output_type": "stream",
     "text": [
      "graph for Type of ownership: total = 8\n"
     ]
    },
    {
     "data": {
      "image/png": "[encoded data removed]",
      "text/plain": [
       "<Figure size 432x288 with 1 Axes>"
      ]
     },
     "metadata": {
      "needs_background": "light"
     },
     "output_type": "display_data"
    },
    {
     "name": "stdout",
     "output_type": "stream",
     "text": [
      "graph for Industry: total = 32\n"
     ]
    },
    {
     "data": {
      "image/png": "[encoded data removed]",
      "text/plain": [
       "<Figure size 432x288 with 1 Axes>"
      ]
     },
     "metadata": {
      "needs_background": "light"
     },
     "output_type": "display_data"
    },
    {
     "name": "stdout",
     "output_type": "stream",
     "text": [
      "graph for Sector: total = 20\n"
     ]
    },
    {
     "data": {
      "image/png": "[encoded data removed]",
      "text/plain": [
       "<Figure size 432x288 with 1 Axes>"
      ]
     },
     "metadata": {
      "needs_background": "light"
     },
     "output_type": "display_data"
    },
    {
     "name": "stdout",
     "output_type": "stream",
     "text": [
      "graph for Revenue: total = 11\n"
     ]
    },
    {
     "data": {
      "image/png": "[encoded data removed]",
      "text/plain": [
       "<Figure size 432x288 with 1 Axes>"
      ]
     },
     "metadata": {
      "needs_background": "light"
     },
     "output_type": "display_data"
    },
    {
     "name": "stdout",
     "output_type": "stream",
     "text": [
      "graph for company_txt: total = 93\n"
     ]
    },
    {
     "data": {
      "image/png": "[encoded data removed]",
      "text/plain": [
       "<Figure size 432x288 with 1 Axes>"
      ]
     },
     "metadata": {
      "needs_background": "light"
     },
     "output_type": "display_data"
    },
    {
     "name": "stdout",
     "output_type": "stream",
     "text": [
      "graph for job_state: total = 20\n"
     ]
    },
    {
     "data": {
      "image/png": "[encoded data removed]",
      "text/plain": [
       "<Figure size 432x288 with 1 Axes>"
      ]
     },
     "metadata": {
      "needs_background": "light"
     },
     "output_type": "display_data"
    },
    {
     "name": "stdout",
     "output_type": "stream",
     "text": [
      "graph for python_yn: total = 2\n"
     ]
    },
    {
     "data": {
      "image/png": "[encoded data removed]",
      "text/plain": [
       "<Figure size 432x288 with 1 Axes>"
      ]
     },
     "metadata": {
      "needs_background": "light"
     },
     "output_type": "display_data"
    },
    {
     "name": "stdout",
     "output_type": "stream",
     "text": [
      "graph for R_yn: total = 1\n"
     ]
    },
    {
     "data": {
      "image/png": "[encoded data removed]",
      "text/plain": [
       "<Figure size 432x288 with 1 Axes>"
      ]
     },
     "metadata": {
      "needs_background": "light"
     },
     "output_type": "display_data"
    },
    {
     "name": "stdout",
     "output_type": "stream",
     "text": [
      "graph for spark_yn: total = 2\n"
     ]
    },
    {
     "data": {
      "image/png": "[encoded data removed]",
      "text/plain": [
       "<Figure size 432x288 with 1 Axes>"
      ]
     },
     "metadata": {
      "needs_background": "light"
     },
     "output_type": "display_data"
    },
    {
     "name": "stdout",
     "output_type": "stream",
     "text": [
      "graph for aws_yn: total = 2\n"
     ]
    },
    {
     "data": {
      "image/png": "[encoded data removed]",
      "text/plain": [
       "<Figure size 432x288 with 1 Axes>"
      ]
     },
     "metadata": {
      "needs_background": "light"
     },
     "output_type": "display_data"
    },
    {
     "name": "stdout",
     "output_type": "stream",
     "text": [
      "graph for excel_yn: total = 2\n"
     ]
    },
    {
     "data": {
      "image/png": "[encoded data removed]",
      "text/plain": [
       "<Figure size 432x288 with 1 Axes>"
      ]
     },
     "metadata": {
      "needs_background": "light"
     },
     "output_type": "display_data"
    },
    {
     "name": "stdout",
     "output_type": "stream",
     "text": [
      "graph for job_simp: total = 2\n"
     ]
    },
    {
     "data": {
      "image/png": "[encoded data removed]",
      "text/plain": [
       "<Figure size 432x288 with 1 Axes>"
      ]
     },
     "metadata": {
      "needs_background": "light"
     },
     "output_type": "display_data"
    },
    {
     "name": "stdout",
     "output_type": "stream",
     "text": [
      "graph for seniority: total = 3\n"
     ]
    },
    {
     "data": {
      "image/png": "[encoded data removed]",
      "text/plain": [
       "<Figure size 432x288 with 1 Axes>"
      ]
     },
     "metadata": {
      "needs_background": "light"
     },
     "output_type": "display_data"
    }
   ],
   "source": [
    "for i in df_cat.columns:\n",
    "    cat_num = df_cat[i].value_counts()\n",
    "    print(\"graph for %s: total = %d\" % (i, len(cat_num)))\n",
    "    chart = sns.barplot(x=cat_num.index, y=cat_num)\n",
    "    chart.set_xticklabels(chart.get_xticklabels(), rotation=90)\n",
    "    plt.show()"
   ]
  },
  {
   "cell_type": "code",
   "execution_count": 89,
   "id": "75ce249d",
   "metadata": {},
   "outputs": [
    {
     "name": "stdout",
     "output_type": "stream",
     "text": [
      "graph for Location: total = 20\n"
     ]
    },
    {
     "data": {
      "image/png": "[encoded data removed]",
      "text/plain": [
       "<Figure size 432x288 with 1 Axes>"
      ]
     },
     "metadata": {
      "needs_background": "light"
     },
     "output_type": "display_data"
    },
    {
     "name": "stdout",
     "output_type": "stream",
     "text": [
      "graph for company_txt: total = 20\n"
     ]
    },
    {
     "data": {
      "image/png": "[encoded data removed]",
      "text/plain": [
       "<Figure size 432x288 with 1 Axes>"
      ]
     },
     "metadata": {
      "needs_background": "light"
     },
     "output_type": "display_data"
    }
   ],
   "source": [
    "for i in df_cat[['Location','company_txt']].columns:\n",
    "    cat_num = df_cat[i].value_counts()[:20]\n",
    "    print(\"graph for %s: total = %d\" % (i, len(cat_num)))\n",
    "    chart = sns.barplot(x=cat_num.index, y=cat_num)\n",
    "    chart.set_xticklabels(chart.get_xticklabels(), rotation=90)\n",
    "    plt.show()"
   ]
  },
  {
   "cell_type": "code",
   "execution_count": 90,
   "id": "855597ef",
   "metadata": {},
   "outputs": [
    {
     "data": {
      "text/plain": [
       "Index(['Job Title', 'Salary Estimate', 'Job Description', 'Rating',\n",
       "       'Company Name', 'Location', 'Size', 'Founded', 'Type of ownership',\n",
       "       'Industry', 'Sector', 'Revenue', 'hourly', 'employer_provided',\n",
       "       'min_salary', 'max_salary', 'avg_salary', 'company_txt', 'job_state',\n",
       "       'age', 'python_yn', 'R_yn', 'spark_yn', 'aws_yn', 'excel_yn',\n",
       "       'job_simp', 'seniority', 'desc_len'],\n",
       "      dtype='object')"
      ]
     },
     "execution_count": 90,
     "metadata": {},
     "output_type": "execute_result"
    }
   ],
   "source": [
    "df.columns"
   ]
  },
  {
   "cell_type": "code",
   "execution_count": 91,
   "id": "9ad6ed62",
   "metadata": {},
   "outputs": [
    {
     "data": {
      "text/html": [
       "<div>\n",
       "<style scoped>\n",
       "    .dataframe tbody tr th:only-of-type {\n",
       "        vertical-align: middle;\n",
       "    }\n",
       "\n",
       "    .dataframe tbody tr th {\n",
       "        vertical-align: top;\n",
       "    }\n",
       "\n",
       "    .dataframe thead th {\n",
       "        text-align: right;\n",
       "    }\n",
       "</style>\n",
       "<table border=\"1\" class=\"dataframe\">\n",
       "  <thead>\n",
       "    <tr style=\"text-align: right;\">\n",
       "      <th></th>\n",
       "      <th>avg_salary</th>\n",
       "    </tr>\n",
       "    <tr>\n",
       "      <th>job_simp</th>\n",
       "      <th></th>\n",
       "    </tr>\n",
       "  </thead>\n",
       "  <tbody>\n",
       "    <tr>\n",
       "      <th>data scientist</th>\n",
       "      <td>110.924084</td>\n",
       "    </tr>\n",
       "    <tr>\n",
       "      <th>na</th>\n",
       "      <td>110.750000</td>\n",
       "    </tr>\n",
       "  </tbody>\n",
       "</table>\n",
       "</div>"
      ],
      "text/plain": [
       "                avg_salary\n",
       "job_simp                  \n",
       "data scientist  110.924084\n",
       "na              110.750000"
      ]
     },
     "execution_count": 91,
     "metadata": {},
     "output_type": "execute_result"
    }
   ],
   "source": [
    "pd.pivot_table(df, index = 'job_simp', values = 'avg_salary')"
   ]
  },
  {
   "cell_type": "code",
   "execution_count": 92,
   "id": "d93ef93e",
   "metadata": {},
   "outputs": [
    {
     "data": {
      "text/html": [
       "<div>\n",
       "<style scoped>\n",
       "    .dataframe tbody tr th:only-of-type {\n",
       "        vertical-align: middle;\n",
       "    }\n",
       "\n",
       "    .dataframe tbody tr th {\n",
       "        vertical-align: top;\n",
       "    }\n",
       "\n",
       "    .dataframe thead th {\n",
       "        text-align: right;\n",
       "    }\n",
       "</style>\n",
       "<table border=\"1\" class=\"dataframe\">\n",
       "  <thead>\n",
       "    <tr style=\"text-align: right;\">\n",
       "      <th></th>\n",
       "      <th></th>\n",
       "      <th>avg_salary</th>\n",
       "    </tr>\n",
       "    <tr>\n",
       "      <th>job_simp</th>\n",
       "      <th>seniority</th>\n",
       "      <th></th>\n",
       "    </tr>\n",
       "  </thead>\n",
       "  <tbody>\n",
       "    <tr>\n",
       "      <th rowspan=\"3\" valign=\"top\">data scientist</th>\n",
       "      <th>jr</th>\n",
       "      <td>111.100000</td>\n",
       "    </tr>\n",
       "    <tr>\n",
       "      <th>na</th>\n",
       "      <td>110.839394</td>\n",
       "    </tr>\n",
       "    <tr>\n",
       "      <th>senior</th>\n",
       "      <td>112.666667</td>\n",
       "    </tr>\n",
       "    <tr>\n",
       "      <th>na</th>\n",
       "      <th>na</th>\n",
       "      <td>110.750000</td>\n",
       "    </tr>\n",
       "  </tbody>\n",
       "</table>\n",
       "</div>"
      ],
      "text/plain": [
       "                          avg_salary\n",
       "job_simp       seniority            \n",
       "data scientist jr         111.100000\n",
       "               na         110.839394\n",
       "               senior     112.666667\n",
       "na             na         110.750000"
      ]
     },
     "execution_count": 92,
     "metadata": {},
     "output_type": "execute_result"
    }
   ],
   "source": [
    "pd.pivot_table(df, index = ['job_simp','seniority'], values = 'avg_salary')"
   ]
  },
  {
   "cell_type": "code",
   "execution_count": 93,
   "id": "786ba04c",
   "metadata": {},
   "outputs": [
    {
     "data": {
      "text/html": [
       "<div>\n",
       "<style scoped>\n",
       "    .dataframe tbody tr th:only-of-type {\n",
       "        vertical-align: middle;\n",
       "    }\n",
       "\n",
       "    .dataframe tbody tr th {\n",
       "        vertical-align: top;\n",
       "    }\n",
       "\n",
       "    .dataframe thead th {\n",
       "        text-align: right;\n",
       "    }\n",
       "</style>\n",
       "<table border=\"1\" class=\"dataframe\">\n",
       "  <thead>\n",
       "    <tr style=\"text-align: right;\">\n",
       "      <th></th>\n",
       "      <th></th>\n",
       "      <th>avg_salary</th>\n",
       "    </tr>\n",
       "    <tr>\n",
       "      <th>job_state</th>\n",
       "      <th>job_simp</th>\n",
       "      <th></th>\n",
       "    </tr>\n",
       "  </thead>\n",
       "  <tbody>\n",
       "    <tr>\n",
       "      <th>WI</th>\n",
       "      <th>data scientist</th>\n",
       "      <td>57.500000</td>\n",
       "    </tr>\n",
       "    <tr>\n",
       "      <th>WA</th>\n",
       "      <th>data scientist</th>\n",
       "      <td>106.600000</td>\n",
       "    </tr>\n",
       "    <tr>\n",
       "      <th>VA</th>\n",
       "      <th>data scientist</th>\n",
       "      <td>110.750000</td>\n",
       "    </tr>\n",
       "    <tr>\n",
       "      <th>UT</th>\n",
       "      <th>data scientist</th>\n",
       "      <td>106.500000</td>\n",
       "    </tr>\n",
       "    <tr>\n",
       "      <th>TX</th>\n",
       "      <th>data scientist</th>\n",
       "      <td>112.500000</td>\n",
       "    </tr>\n",
       "    <tr>\n",
       "      <th>PA</th>\n",
       "      <th>data scientist</th>\n",
       "      <td>131.000000</td>\n",
       "    </tr>\n",
       "    <tr>\n",
       "      <th>NY</th>\n",
       "      <th>data scientist</th>\n",
       "      <td>114.890625</td>\n",
       "    </tr>\n",
       "    <tr>\n",
       "      <th>NM</th>\n",
       "      <th>data scientist</th>\n",
       "      <td>112.500000</td>\n",
       "    </tr>\n",
       "    <tr>\n",
       "      <th>NJ</th>\n",
       "      <th>data scientist</th>\n",
       "      <td>109.000000</td>\n",
       "    </tr>\n",
       "    <tr>\n",
       "      <th>MT</th>\n",
       "      <th>data scientist</th>\n",
       "      <td>112.500000</td>\n",
       "    </tr>\n",
       "    <tr>\n",
       "      <th>MN</th>\n",
       "      <th>data scientist</th>\n",
       "      <td>105.500000</td>\n",
       "    </tr>\n",
       "    <tr>\n",
       "      <th>MD</th>\n",
       "      <th>data scientist</th>\n",
       "      <td>112.500000</td>\n",
       "    </tr>\n",
       "    <tr>\n",
       "      <th>MA</th>\n",
       "      <th>data scientist</th>\n",
       "      <td>111.722222</td>\n",
       "    </tr>\n",
       "    <tr>\n",
       "      <th>IL</th>\n",
       "      <th>data scientist</th>\n",
       "      <td>110.250000</td>\n",
       "    </tr>\n",
       "    <tr>\n",
       "      <th>GA</th>\n",
       "      <th>data scientist</th>\n",
       "      <td>111.100000</td>\n",
       "    </tr>\n",
       "    <tr>\n",
       "      <th>FL</th>\n",
       "      <th>data scientist</th>\n",
       "      <td>110.166667</td>\n",
       "    </tr>\n",
       "    <tr>\n",
       "      <th>CT</th>\n",
       "      <th>data scientist</th>\n",
       "      <td>108.500000</td>\n",
       "    </tr>\n",
       "    <tr>\n",
       "      <th>CO</th>\n",
       "      <th>data scientist</th>\n",
       "      <td>109.700000</td>\n",
       "    </tr>\n",
       "    <tr>\n",
       "      <th>CA</th>\n",
       "      <th>data scientist</th>\n",
       "      <td>110.851064</td>\n",
       "    </tr>\n",
       "    <tr>\n",
       "      <th rowspan=\"2\" valign=\"top\">-1</th>\n",
       "      <th>na</th>\n",
       "      <td>110.750000</td>\n",
       "    </tr>\n",
       "    <tr>\n",
       "      <th>data scientist</th>\n",
       "      <td>109.773810</td>\n",
       "    </tr>\n",
       "  </tbody>\n",
       "</table>\n",
       "</div>"
      ],
      "text/plain": [
       "                          avg_salary\n",
       "job_state job_simp                  \n",
       "WI        data scientist   57.500000\n",
       "WA        data scientist  106.600000\n",
       "VA        data scientist  110.750000\n",
       "UT        data scientist  106.500000\n",
       "TX        data scientist  112.500000\n",
       "PA        data scientist  131.000000\n",
       "NY        data scientist  114.890625\n",
       "NM        data scientist  112.500000\n",
       "NJ        data scientist  109.000000\n",
       "MT        data scientist  112.500000\n",
       "MN        data scientist  105.500000\n",
       "MD        data scientist  112.500000\n",
       "MA        data scientist  111.722222\n",
       "IL        data scientist  110.250000\n",
       "GA        data scientist  111.100000\n",
       "FL        data scientist  110.166667\n",
       "CT        data scientist  108.500000\n",
       "CO        data scientist  109.700000\n",
       "CA        data scientist  110.851064\n",
       "-1        na              110.750000\n",
       "          data scientist  109.773810"
      ]
     },
     "execution_count": 93,
     "metadata": {},
     "output_type": "execute_result"
    }
   ],
   "source": [
    "pd.pivot_table(df, index = ['job_state','job_simp'], values = 'avg_salary').sort_values('job_state', ascending = False)"
   ]
  },
  {
   "cell_type": "code",
   "execution_count": 94,
   "id": "39866689",
   "metadata": {},
   "outputs": [],
   "source": [
    "pd.options.display.max_rows\n",
    "pd.set_option('display.max_rows', None)"
   ]
  },
  {
   "cell_type": "code",
   "execution_count": 95,
   "id": "68b0202a",
   "metadata": {},
   "outputs": [
    {
     "data": {
      "text/html": [
       "<div>\n",
       "<style scoped>\n",
       "    .dataframe tbody tr th:only-of-type {\n",
       "        vertical-align: middle;\n",
       "    }\n",
       "\n",
       "    .dataframe tbody tr th {\n",
       "        vertical-align: top;\n",
       "    }\n",
       "\n",
       "    .dataframe thead th {\n",
       "        text-align: right;\n",
       "    }\n",
       "</style>\n",
       "<table border=\"1\" class=\"dataframe\">\n",
       "  <thead>\n",
       "    <tr style=\"text-align: right;\">\n",
       "      <th></th>\n",
       "      <th></th>\n",
       "      <th>avg_salary</th>\n",
       "    </tr>\n",
       "    <tr>\n",
       "      <th>job_state</th>\n",
       "      <th>job_simp</th>\n",
       "      <th></th>\n",
       "    </tr>\n",
       "  </thead>\n",
       "  <tbody>\n",
       "    <tr>\n",
       "      <th>WI</th>\n",
       "      <th>data scientist</th>\n",
       "      <td>1</td>\n",
       "    </tr>\n",
       "    <tr>\n",
       "      <th>WA</th>\n",
       "      <th>data scientist</th>\n",
       "      <td>5</td>\n",
       "    </tr>\n",
       "    <tr>\n",
       "      <th>VA</th>\n",
       "      <th>data scientist</th>\n",
       "      <td>4</td>\n",
       "    </tr>\n",
       "    <tr>\n",
       "      <th>UT</th>\n",
       "      <th>data scientist</th>\n",
       "      <td>3</td>\n",
       "    </tr>\n",
       "    <tr>\n",
       "      <th>TX</th>\n",
       "      <th>data scientist</th>\n",
       "      <td>5</td>\n",
       "    </tr>\n",
       "    <tr>\n",
       "      <th>PA</th>\n",
       "      <th>data scientist</th>\n",
       "      <td>1</td>\n",
       "    </tr>\n",
       "    <tr>\n",
       "      <th>NY</th>\n",
       "      <th>data scientist</th>\n",
       "      <td>32</td>\n",
       "    </tr>\n",
       "    <tr>\n",
       "      <th>NM</th>\n",
       "      <th>data scientist</th>\n",
       "      <td>1</td>\n",
       "    </tr>\n",
       "    <tr>\n",
       "      <th>NJ</th>\n",
       "      <th>data scientist</th>\n",
       "      <td>4</td>\n",
       "    </tr>\n",
       "    <tr>\n",
       "      <th>MT</th>\n",
       "      <th>data scientist</th>\n",
       "      <td>2</td>\n",
       "    </tr>\n",
       "    <tr>\n",
       "      <th>MN</th>\n",
       "      <th>data scientist</th>\n",
       "      <td>1</td>\n",
       "    </tr>\n",
       "    <tr>\n",
       "      <th>MD</th>\n",
       "      <th>data scientist</th>\n",
       "      <td>4</td>\n",
       "    </tr>\n",
       "    <tr>\n",
       "      <th>MA</th>\n",
       "      <th>data scientist</th>\n",
       "      <td>9</td>\n",
       "    </tr>\n",
       "    <tr>\n",
       "      <th>IL</th>\n",
       "      <th>data scientist</th>\n",
       "      <td>2</td>\n",
       "    </tr>\n",
       "    <tr>\n",
       "      <th>GA</th>\n",
       "      <th>data scientist</th>\n",
       "      <td>15</td>\n",
       "    </tr>\n",
       "    <tr>\n",
       "      <th>FL</th>\n",
       "      <th>data scientist</th>\n",
       "      <td>3</td>\n",
       "    </tr>\n",
       "    <tr>\n",
       "      <th>CT</th>\n",
       "      <th>data scientist</th>\n",
       "      <td>5</td>\n",
       "    </tr>\n",
       "    <tr>\n",
       "      <th>CO</th>\n",
       "      <th>data scientist</th>\n",
       "      <td>5</td>\n",
       "    </tr>\n",
       "    <tr>\n",
       "      <th>CA</th>\n",
       "      <th>data scientist</th>\n",
       "      <td>47</td>\n",
       "    </tr>\n",
       "    <tr>\n",
       "      <th rowspan=\"2\" valign=\"top\">-1</th>\n",
       "      <th>na</th>\n",
       "      <td>4</td>\n",
       "    </tr>\n",
       "    <tr>\n",
       "      <th>data scientist</th>\n",
       "      <td>42</td>\n",
       "    </tr>\n",
       "  </tbody>\n",
       "</table>\n",
       "</div>"
      ],
      "text/plain": [
       "                          avg_salary\n",
       "job_state job_simp                  \n",
       "WI        data scientist           1\n",
       "WA        data scientist           5\n",
       "VA        data scientist           4\n",
       "UT        data scientist           3\n",
       "TX        data scientist           5\n",
       "PA        data scientist           1\n",
       "NY        data scientist          32\n",
       "NM        data scientist           1\n",
       "NJ        data scientist           4\n",
       "MT        data scientist           2\n",
       "MN        data scientist           1\n",
       "MD        data scientist           4\n",
       "MA        data scientist           9\n",
       "IL        data scientist           2\n",
       "GA        data scientist          15\n",
       "FL        data scientist           3\n",
       "CT        data scientist           5\n",
       "CO        data scientist           5\n",
       "CA        data scientist          47\n",
       "-1        na                       4\n",
       "          data scientist          42"
      ]
     },
     "execution_count": 95,
     "metadata": {},
     "output_type": "execute_result"
    }
   ],
   "source": [
    "pd.pivot_table(df, index = ['job_state','job_simp'], values = 'avg_salary', aggfunc = 'count').sort_values('job_state', ascending = False)"
   ]
  },
  {
   "cell_type": "code",
   "execution_count": 96,
   "id": "c91dc95a",
   "metadata": {},
   "outputs": [
    {
     "data": {
      "text/html": [
       "<div>\n",
       "<style scoped>\n",
       "    .dataframe tbody tr th:only-of-type {\n",
       "        vertical-align: middle;\n",
       "    }\n",
       "\n",
       "    .dataframe tbody tr th {\n",
       "        vertical-align: top;\n",
       "    }\n",
       "\n",
       "    .dataframe thead th {\n",
       "        text-align: right;\n",
       "    }\n",
       "</style>\n",
       "<table border=\"1\" class=\"dataframe\">\n",
       "  <thead>\n",
       "    <tr style=\"text-align: right;\">\n",
       "      <th></th>\n",
       "      <th>avg_salary</th>\n",
       "    </tr>\n",
       "    <tr>\n",
       "      <th>job_state</th>\n",
       "      <th></th>\n",
       "    </tr>\n",
       "  </thead>\n",
       "  <tbody>\n",
       "    <tr>\n",
       "      <th>PA</th>\n",
       "      <td>131.000000</td>\n",
       "    </tr>\n",
       "    <tr>\n",
       "      <th>NY</th>\n",
       "      <td>114.890625</td>\n",
       "    </tr>\n",
       "    <tr>\n",
       "      <th>MT</th>\n",
       "      <td>112.500000</td>\n",
       "    </tr>\n",
       "    <tr>\n",
       "      <th>NM</th>\n",
       "      <td>112.500000</td>\n",
       "    </tr>\n",
       "    <tr>\n",
       "      <th>TX</th>\n",
       "      <td>112.500000</td>\n",
       "    </tr>\n",
       "    <tr>\n",
       "      <th>MD</th>\n",
       "      <td>112.500000</td>\n",
       "    </tr>\n",
       "    <tr>\n",
       "      <th>MA</th>\n",
       "      <td>111.722222</td>\n",
       "    </tr>\n",
       "    <tr>\n",
       "      <th>GA</th>\n",
       "      <td>111.100000</td>\n",
       "    </tr>\n",
       "    <tr>\n",
       "      <th>CA</th>\n",
       "      <td>110.851064</td>\n",
       "    </tr>\n",
       "    <tr>\n",
       "      <th>VA</th>\n",
       "      <td>110.750000</td>\n",
       "    </tr>\n",
       "    <tr>\n",
       "      <th>IL</th>\n",
       "      <td>110.250000</td>\n",
       "    </tr>\n",
       "    <tr>\n",
       "      <th>FL</th>\n",
       "      <td>110.166667</td>\n",
       "    </tr>\n",
       "    <tr>\n",
       "      <th>-1</th>\n",
       "      <td>109.773810</td>\n",
       "    </tr>\n",
       "    <tr>\n",
       "      <th>CO</th>\n",
       "      <td>109.700000</td>\n",
       "    </tr>\n",
       "    <tr>\n",
       "      <th>NJ</th>\n",
       "      <td>109.000000</td>\n",
       "    </tr>\n",
       "    <tr>\n",
       "      <th>CT</th>\n",
       "      <td>108.500000</td>\n",
       "    </tr>\n",
       "    <tr>\n",
       "      <th>WA</th>\n",
       "      <td>106.600000</td>\n",
       "    </tr>\n",
       "    <tr>\n",
       "      <th>UT</th>\n",
       "      <td>106.500000</td>\n",
       "    </tr>\n",
       "    <tr>\n",
       "      <th>MN</th>\n",
       "      <td>105.500000</td>\n",
       "    </tr>\n",
       "    <tr>\n",
       "      <th>WI</th>\n",
       "      <td>57.500000</td>\n",
       "    </tr>\n",
       "  </tbody>\n",
       "</table>\n",
       "</div>"
      ],
      "text/plain": [
       "           avg_salary\n",
       "job_state            \n",
       "PA         131.000000\n",
       "NY         114.890625\n",
       "MT         112.500000\n",
       "NM         112.500000\n",
       "TX         112.500000\n",
       "MD         112.500000\n",
       "MA         111.722222\n",
       "GA         111.100000\n",
       "CA         110.851064\n",
       "VA         110.750000\n",
       "IL         110.250000\n",
       "FL         110.166667\n",
       "-1         109.773810\n",
       "CO         109.700000\n",
       "NJ         109.000000\n",
       "CT         108.500000\n",
       "WA         106.600000\n",
       "UT         106.500000\n",
       "MN         105.500000\n",
       "WI          57.500000"
      ]
     },
     "execution_count": 96,
     "metadata": {},
     "output_type": "execute_result"
    }
   ],
   "source": [
    "pd.pivot_table(df[df.job_simp == 'data scientist'], index = 'job_state', values = 'avg_salary').sort_values('avg_salary', ascending = False)"
   ]
  },
  {
   "cell_type": "code",
   "execution_count": 97,
   "id": "018535c4",
   "metadata": {},
   "outputs": [],
   "source": [
    "# rating, industry, sector, revenue, number of comp, hourly, employer provided, python, r, spark, aws, excel, desc_len, Type of onwership, 'avg_salary',\n",
    "df_pivots = df[['Rating', 'Industry', 'Sector', 'Revenue', 'hourly', 'employer_provided', 'python_yn', 'R_yn', 'spark_yn', 'aws_yn', 'excel_yn', 'Type of ownership', 'avg_salary',]]"
   ]
  },
  {
   "cell_type": "code",
   "execution_count": 98,
   "id": "1b5c4e50",
   "metadata": {},
   "outputs": [
    {
     "data": {
      "text/plain": [
       "Index(['Job Title', 'Salary Estimate', 'Job Description', 'Rating',\n",
       "       'Company Name', 'Location', 'Size', 'Founded', 'Type of ownership',\n",
       "       'Industry', 'Sector', 'Revenue', 'hourly', 'employer_provided',\n",
       "       'min_salary', 'max_salary', 'avg_salary', 'company_txt', 'job_state',\n",
       "       'age', 'python_yn', 'R_yn', 'spark_yn', 'aws_yn', 'excel_yn',\n",
       "       'job_simp', 'seniority', 'desc_len'],\n",
       "      dtype='object')"
      ]
     },
     "execution_count": 98,
     "metadata": {},
     "output_type": "execute_result"
    }
   ],
   "source": [
    "df.columns"
   ]
  },
  {
   "cell_type": "code",
   "execution_count": 99,
   "id": "ed545b20",
   "metadata": {},
   "outputs": [
    {
     "name": "stdout",
     "output_type": "stream",
     "text": [
      "Rating\n",
      "        avg_salary\n",
      "Rating            \n",
      " 3.5    117.785714\n",
      "-1.0    112.941176\n",
      " 4.1    112.676471\n",
      " 4.0    112.611111\n",
      " 2.9    112.500000\n",
      " 3.1    112.500000\n",
      " 4.9    112.500000\n",
      " 4.7    112.500000\n",
      " 4.4    111.800000\n",
      " 3.0    111.750000\n",
      " 4.2    111.343750\n",
      " 3.7    111.333333\n",
      " 3.3    111.100000\n",
      " 3.4    110.750000\n",
      " 4.6    110.166667\n",
      " 4.5    110.166667\n",
      " 5.0    110.166667\n",
      " 3.6    110.166667\n",
      " 3.8    110.000000\n",
      " 2.3    109.000000\n",
      " 4.3    107.875000\n",
      " 4.8    107.625000\n",
      " 3.9    107.600000\n",
      " 3.2     93.750000\n",
      "Industry\n",
      "                                         avg_salary\n",
      "Industry                                           \n",
      "Enterprise Software & Network Solutions  119.681818\n",
      "Computer Hardware Development            118.600000\n",
      "Business Consulting                      115.550000\n",
      "National Agencies                        114.625000\n",
      "Internet & Web Services                  114.583333\n",
      "Home Furniture & Housewares Stores       113.142857\n",
      "Insurance Agencies & Brokerages          112.500000\n",
      "Biotech & Pharmaceuticals                112.500000\n",
      "Advertising & Public Relations           112.500000\n",
      "Cable, Internet & Telephone Providers    112.500000\n",
      "Civic & Social Services                  112.500000\n",
      "Insurance Carriers                       111.625000\n",
      "Colleges & Universities                  111.333333\n",
      "Airlines, Airports & Air Transportation  111.333333\n",
      "Broadcast Media                          111.100000\n",
      "Banking & Lending                        111.100000\n",
      "Aerospace & Defense                      111.100000\n",
      "Education & Training Services            110.750000\n",
      "Consumer Product Manufacturing           110.750000\n",
      "Hotels & Resorts                         110.750000\n",
      "Other Retail Stores                      110.166667\n",
      "Telecommunications Services              110.166667\n",
      "Food & Beverage Manufacturing            110.166667\n",
      "Energy & Utilities                       110.166667\n",
      "Department, Clothing & Shoe Stores       110.166667\n",
      "Rail Transportation                      109.000000\n",
      "-1                                       108.741379\n",
      "Health Care Services & Hospitals         107.968750\n",
      "Information Technology Support Services  106.233333\n",
      "General Merchandise & Superstores        105.500000\n",
      "Restaurants & Cafes                      101.250000\n",
      "HR Consulting                             98.700000\n",
      "Sector\n",
      "                                    avg_salary\n",
      "Sector                                        \n",
      "Management & Consulting             115.550000\n",
      "Government & Public Administration  114.625000\n",
      "Information Technology              113.441860\n",
      "Pharmaceutical & Biotechnology      112.500000\n",
      "Nonprofit & NGO                     112.500000\n",
      "Insurance                           111.722222\n",
      "Media & Communication               111.625000\n",
      "Retail & Wholesale                  111.321429\n",
      "Education                           111.100000\n",
      "Financial Services                  111.100000\n",
      "Aerospace & Defense                 111.100000\n",
      "Telecommunications                  110.750000\n",
      "Transportation & Logistics          110.750000\n",
      "Hotels & Travel Accommodation       110.750000\n",
      "Manufacturing                       110.500000\n",
      "Energy, Mining & Utilities          110.166667\n",
      "-1                                  108.741379\n",
      "Healthcare                          107.968750\n",
      "Restaurants & Food Service          101.250000\n",
      "Human Resources & Staffing           98.700000\n",
      "Revenue\n",
      "                                  avg_salary\n",
      "Revenue                                     \n",
      "$500 million to $1 billion (USD)  120.800000\n",
      "$25 to $100 million (USD)         113.333333\n",
      "$100 to $500 million (USD)        111.700000\n",
      "Less than $1 million (USD)        111.375000\n",
      "$1 to $5 billion (USD)            111.187500\n",
      "$5 to $10 billion (USD)           111.100000\n",
      "-1                                111.050000\n",
      "$10+ billion (USD)                110.800000\n",
      "$1 to $5 million (USD)            110.750000\n",
      "Unknown / Non-Applicable          110.191667\n",
      "$5 to $25 million (USD)           107.888889\n",
      "hourly\n",
      "        avg_salary\n",
      "hourly            \n",
      "0       112.318182\n",
      "1        78.250000\n",
      "employer_provided\n",
      "                   avg_salary\n",
      "employer_provided            \n",
      "0                  111.359551\n",
      "1                  106.323529\n",
      "python_yn\n",
      "           avg_salary\n",
      "python_yn            \n",
      "0          112.043103\n",
      "1          101.619048\n",
      "R_yn\n",
      "      avg_salary\n",
      "R_yn            \n",
      "0     110.920513\n",
      "spark_yn\n",
      "          avg_salary\n",
      "spark_yn            \n",
      "0         110.973958\n",
      "1         107.500000\n",
      "aws_yn\n",
      "        avg_salary\n",
      "aws_yn            \n",
      "0       111.483957\n",
      "1        97.750000\n",
      "excel_yn\n",
      "          avg_salary\n",
      "excel_yn            \n",
      "0         110.927807\n",
      "1         110.750000\n",
      "Type of ownership\n",
      "                                avg_salary\n",
      "Type of ownership                         \n",
      "Government                      112.687500\n",
      "Nonprofit Organization          112.500000\n",
      "Company - Public                111.844086\n",
      "College / University            111.333333\n",
      "-1                              111.050000\n",
      "Hospital                        110.750000\n",
      "Company - Private               109.866667\n",
      "Subsidiary or Business Segment  102.166667\n",
      "avg_salary\n"
     ]
    },
    {
     "ename": "ValueError",
     "evalue": "Grouper for 'avg_salary' not 1-dimensional",
     "output_type": "error",
     "traceback": [
      "\u001b[1;31m---------------------------------------------------------------------------\u001b[0m",
      "\u001b[1;31mValueError\u001b[0m                                Traceback (most recent call last)",
      "\u001b[1;32m~\\AppData\\Local\\Temp/ipykernel_25584/1427073795.py\u001b[0m in \u001b[0;36m<module>\u001b[1;34m\u001b[0m\n\u001b[0;32m      1\u001b[0m \u001b[1;32mfor\u001b[0m \u001b[0mi\u001b[0m \u001b[1;32min\u001b[0m \u001b[0mdf_pivots\u001b[0m\u001b[1;33m.\u001b[0m\u001b[0mcolumns\u001b[0m\u001b[1;33m:\u001b[0m\u001b[1;33m\u001b[0m\u001b[1;33m\u001b[0m\u001b[0m\n\u001b[0;32m      2\u001b[0m     \u001b[0mprint\u001b[0m\u001b[1;33m(\u001b[0m\u001b[0mi\u001b[0m\u001b[1;33m)\u001b[0m\u001b[1;33m\u001b[0m\u001b[1;33m\u001b[0m\u001b[0m\n\u001b[1;32m----> 3\u001b[1;33m     \u001b[0mprint\u001b[0m\u001b[1;33m(\u001b[0m\u001b[0mpd\u001b[0m\u001b[1;33m.\u001b[0m\u001b[0mpivot_table\u001b[0m\u001b[1;33m(\u001b[0m\u001b[0mdf_pivots\u001b[0m\u001b[1;33m,\u001b[0m\u001b[0mindex\u001b[0m \u001b[1;33m=\u001b[0m\u001b[0mi\u001b[0m\u001b[1;33m,\u001b[0m \u001b[0mvalues\u001b[0m \u001b[1;33m=\u001b[0m \u001b[1;34m'avg_salary'\u001b[0m\u001b[1;33m)\u001b[0m\u001b[1;33m.\u001b[0m\u001b[0msort_values\u001b[0m\u001b[1;33m(\u001b[0m\u001b[1;34m'avg_salary'\u001b[0m\u001b[1;33m,\u001b[0m \u001b[0mascending\u001b[0m \u001b[1;33m=\u001b[0m \u001b[1;32mFalse\u001b[0m\u001b[1;33m)\u001b[0m\u001b[1;33m)\u001b[0m\u001b[1;33m\u001b[0m\u001b[1;33m\u001b[0m\u001b[0m\n\u001b[0m",
      "\u001b[1;32m~\\anaconda3\\lib\\site-packages\\pandas\\core\\reshape\\pivot.py\u001b[0m in \u001b[0;36mpivot_table\u001b[1;34m(data, values, index, columns, aggfunc, fill_value, margins, dropna, margins_name, observed, sort)\u001b[0m\n\u001b[0;32m     93\u001b[0m         \u001b[1;32mreturn\u001b[0m \u001b[0mtable\u001b[0m\u001b[1;33m.\u001b[0m\u001b[0m__finalize__\u001b[0m\u001b[1;33m(\u001b[0m\u001b[0mdata\u001b[0m\u001b[1;33m,\u001b[0m \u001b[0mmethod\u001b[0m\u001b[1;33m=\u001b[0m\u001b[1;34m\"pivot_table\"\u001b[0m\u001b[1;33m)\u001b[0m\u001b[1;33m\u001b[0m\u001b[1;33m\u001b[0m\u001b[0m\n\u001b[0;32m     94\u001b[0m \u001b[1;33m\u001b[0m\u001b[0m\n\u001b[1;32m---> 95\u001b[1;33m     table = __internal_pivot_table(\n\u001b[0m\u001b[0;32m     96\u001b[0m         \u001b[0mdata\u001b[0m\u001b[1;33m,\u001b[0m\u001b[1;33m\u001b[0m\u001b[1;33m\u001b[0m\u001b[0m\n\u001b[0;32m     97\u001b[0m         \u001b[0mvalues\u001b[0m\u001b[1;33m,\u001b[0m\u001b[1;33m\u001b[0m\u001b[1;33m\u001b[0m\u001b[0m\n",
      "\u001b[1;32m~\\anaconda3\\lib\\site-packages\\pandas\\core\\reshape\\pivot.py\u001b[0m in \u001b[0;36m__internal_pivot_table\u001b[1;34m(data, values, index, columns, aggfunc, fill_value, margins, dropna, margins_name, observed, sort)\u001b[0m\n\u001b[0;32m    162\u001b[0m         \u001b[0mvalues\u001b[0m \u001b[1;33m=\u001b[0m \u001b[0mlist\u001b[0m\u001b[1;33m(\u001b[0m\u001b[0mvalues\u001b[0m\u001b[1;33m)\u001b[0m\u001b[1;33m\u001b[0m\u001b[1;33m\u001b[0m\u001b[0m\n\u001b[0;32m    163\u001b[0m \u001b[1;33m\u001b[0m\u001b[0m\n\u001b[1;32m--> 164\u001b[1;33m     \u001b[0mgrouped\u001b[0m \u001b[1;33m=\u001b[0m \u001b[0mdata\u001b[0m\u001b[1;33m.\u001b[0m\u001b[0mgroupby\u001b[0m\u001b[1;33m(\u001b[0m\u001b[0mkeys\u001b[0m\u001b[1;33m,\u001b[0m \u001b[0mobserved\u001b[0m\u001b[1;33m=\u001b[0m\u001b[0mobserved\u001b[0m\u001b[1;33m,\u001b[0m \u001b[0msort\u001b[0m\u001b[1;33m=\u001b[0m\u001b[0msort\u001b[0m\u001b[1;33m)\u001b[0m\u001b[1;33m\u001b[0m\u001b[1;33m\u001b[0m\u001b[0m\n\u001b[0m\u001b[0;32m    165\u001b[0m     \u001b[0magged\u001b[0m \u001b[1;33m=\u001b[0m \u001b[0mgrouped\u001b[0m\u001b[1;33m.\u001b[0m\u001b[0magg\u001b[0m\u001b[1;33m(\u001b[0m\u001b[0maggfunc\u001b[0m\u001b[1;33m)\u001b[0m\u001b[1;33m\u001b[0m\u001b[1;33m\u001b[0m\u001b[0m\n\u001b[0;32m    166\u001b[0m     \u001b[1;32mif\u001b[0m \u001b[0mdropna\u001b[0m \u001b[1;32mand\u001b[0m \u001b[0misinstance\u001b[0m\u001b[1;33m(\u001b[0m\u001b[0magged\u001b[0m\u001b[1;33m,\u001b[0m \u001b[0mABCDataFrame\u001b[0m\u001b[1;33m)\u001b[0m \u001b[1;32mand\u001b[0m \u001b[0mlen\u001b[0m\u001b[1;33m(\u001b[0m\u001b[0magged\u001b[0m\u001b[1;33m.\u001b[0m\u001b[0mcolumns\u001b[0m\u001b[1;33m)\u001b[0m\u001b[1;33m:\u001b[0m\u001b[1;33m\u001b[0m\u001b[1;33m\u001b[0m\u001b[0m\n",
      "\u001b[1;32m~\\anaconda3\\lib\\site-packages\\pandas\\core\\frame.py\u001b[0m in \u001b[0;36mgroupby\u001b[1;34m(self, by, axis, level, as_index, sort, group_keys, squeeze, observed, dropna)\u001b[0m\n\u001b[0;32m   7629\u001b[0m         \u001b[1;31m# error: Argument \"squeeze\" to \"DataFrameGroupBy\" has incompatible type\u001b[0m\u001b[1;33m\u001b[0m\u001b[1;33m\u001b[0m\u001b[0m\n\u001b[0;32m   7630\u001b[0m         \u001b[1;31m# \"Union[bool, NoDefault]\"; expected \"bool\"\u001b[0m\u001b[1;33m\u001b[0m\u001b[1;33m\u001b[0m\u001b[0m\n\u001b[1;32m-> 7631\u001b[1;33m         return DataFrameGroupBy(\n\u001b[0m\u001b[0;32m   7632\u001b[0m             \u001b[0mobj\u001b[0m\u001b[1;33m=\u001b[0m\u001b[0mself\u001b[0m\u001b[1;33m,\u001b[0m\u001b[1;33m\u001b[0m\u001b[1;33m\u001b[0m\u001b[0m\n\u001b[0;32m   7633\u001b[0m             \u001b[0mkeys\u001b[0m\u001b[1;33m=\u001b[0m\u001b[0mby\u001b[0m\u001b[1;33m,\u001b[0m\u001b[1;33m\u001b[0m\u001b[1;33m\u001b[0m\u001b[0m\n",
      "\u001b[1;32m~\\anaconda3\\lib\\site-packages\\pandas\\core\\groupby\\groupby.py\u001b[0m in \u001b[0;36m__init__\u001b[1;34m(self, obj, keys, axis, level, grouper, exclusions, selection, as_index, sort, group_keys, squeeze, observed, mutated, dropna)\u001b[0m\n\u001b[0;32m    887\u001b[0m             \u001b[1;32mfrom\u001b[0m \u001b[0mpandas\u001b[0m\u001b[1;33m.\u001b[0m\u001b[0mcore\u001b[0m\u001b[1;33m.\u001b[0m\u001b[0mgroupby\u001b[0m\u001b[1;33m.\u001b[0m\u001b[0mgrouper\u001b[0m \u001b[1;32mimport\u001b[0m \u001b[0mget_grouper\u001b[0m\u001b[1;33m\u001b[0m\u001b[1;33m\u001b[0m\u001b[0m\n\u001b[0;32m    888\u001b[0m \u001b[1;33m\u001b[0m\u001b[0m\n\u001b[1;32m--> 889\u001b[1;33m             grouper, exclusions, obj = get_grouper(\n\u001b[0m\u001b[0;32m    890\u001b[0m                 \u001b[0mobj\u001b[0m\u001b[1;33m,\u001b[0m\u001b[1;33m\u001b[0m\u001b[1;33m\u001b[0m\u001b[0m\n\u001b[0;32m    891\u001b[0m                 \u001b[0mkeys\u001b[0m\u001b[1;33m,\u001b[0m\u001b[1;33m\u001b[0m\u001b[1;33m\u001b[0m\u001b[0m\n",
      "\u001b[1;32m~\\anaconda3\\lib\\site-packages\\pandas\\core\\groupby\\grouper.py\u001b[0m in \u001b[0;36mget_grouper\u001b[1;34m(obj, key, axis, level, sort, observed, mutated, validate, dropna)\u001b[0m\n\u001b[0;32m    855\u001b[0m                     \u001b[1;31m# non-unique columns; raise here to get the name in the\u001b[0m\u001b[1;33m\u001b[0m\u001b[1;33m\u001b[0m\u001b[0m\n\u001b[0;32m    856\u001b[0m                     \u001b[1;31m# exception message\u001b[0m\u001b[1;33m\u001b[0m\u001b[1;33m\u001b[0m\u001b[0m\n\u001b[1;32m--> 857\u001b[1;33m                     \u001b[1;32mraise\u001b[0m \u001b[0mValueError\u001b[0m\u001b[1;33m(\u001b[0m\u001b[1;34mf\"Grouper for '{name}' not 1-dimensional\"\u001b[0m\u001b[1;33m)\u001b[0m\u001b[1;33m\u001b[0m\u001b[1;33m\u001b[0m\u001b[0m\n\u001b[0m\u001b[0;32m    858\u001b[0m                 \u001b[0mexclusions\u001b[0m\u001b[1;33m.\u001b[0m\u001b[0madd\u001b[0m\u001b[1;33m(\u001b[0m\u001b[0mname\u001b[0m\u001b[1;33m)\u001b[0m\u001b[1;33m\u001b[0m\u001b[1;33m\u001b[0m\u001b[0m\n\u001b[0;32m    859\u001b[0m             \u001b[1;32melif\u001b[0m \u001b[0mobj\u001b[0m\u001b[1;33m.\u001b[0m\u001b[0m_is_level_reference\u001b[0m\u001b[1;33m(\u001b[0m\u001b[0mgpr\u001b[0m\u001b[1;33m,\u001b[0m \u001b[0maxis\u001b[0m\u001b[1;33m=\u001b[0m\u001b[0maxis\u001b[0m\u001b[1;33m)\u001b[0m\u001b[1;33m:\u001b[0m\u001b[1;33m\u001b[0m\u001b[1;33m\u001b[0m\u001b[0m\n",
      "\u001b[1;31mValueError\u001b[0m: Grouper for 'avg_salary' not 1-dimensional"
     ]
    }
   ],
   "source": [
    "for i in df_pivots.columns:\n",
    "    print(i)\n",
    "    print(pd.pivot_table(df_pivots,index =i, values = 'avg_salary').sort_values('avg_salary', ascending = False))"
   ]
  },
  {
   "cell_type": "code",
   "execution_count": 100,
   "id": "05bbbcd9",
   "metadata": {},
   "outputs": [
    {
     "data": {
      "text/html": [
       "<div>\n",
       "<style scoped>\n",
       "    .dataframe tbody tr th:only-of-type {\n",
       "        vertical-align: middle;\n",
       "    }\n",
       "\n",
       "    .dataframe tbody tr th {\n",
       "        vertical-align: top;\n",
       "    }\n",
       "\n",
       "    .dataframe thead th {\n",
       "        text-align: right;\n",
       "    }\n",
       "</style>\n",
       "<table border=\"1\" class=\"dataframe\">\n",
       "  <thead>\n",
       "    <tr style=\"text-align: right;\">\n",
       "      <th>python_yn</th>\n",
       "      <th>0</th>\n",
       "      <th>1</th>\n",
       "    </tr>\n",
       "    <tr>\n",
       "      <th>Revenue</th>\n",
       "      <th></th>\n",
       "      <th></th>\n",
       "    </tr>\n",
       "  </thead>\n",
       "  <tbody>\n",
       "    <tr>\n",
       "      <th>$1 to $5 billion (USD)</th>\n",
       "      <td>16.0</td>\n",
       "      <td>NaN</td>\n",
       "    </tr>\n",
       "    <tr>\n",
       "      <th>$1 to $5 million (USD)</th>\n",
       "      <td>8.0</td>\n",
       "      <td>NaN</td>\n",
       "    </tr>\n",
       "    <tr>\n",
       "      <th>$10+ billion (USD)</th>\n",
       "      <td>45.0</td>\n",
       "      <td>5.0</td>\n",
       "    </tr>\n",
       "    <tr>\n",
       "      <th>$100 to $500 million (USD)</th>\n",
       "      <td>12.0</td>\n",
       "      <td>3.0</td>\n",
       "    </tr>\n",
       "    <tr>\n",
       "      <th>$25 to $100 million (USD)</th>\n",
       "      <td>3.0</td>\n",
       "      <td>NaN</td>\n",
       "    </tr>\n",
       "    <tr>\n",
       "      <th>$5 to $10 billion (USD)</th>\n",
       "      <td>14.0</td>\n",
       "      <td>1.0</td>\n",
       "    </tr>\n",
       "    <tr>\n",
       "      <th>$5 to $25 million (USD)</th>\n",
       "      <td>8.0</td>\n",
       "      <td>1.0</td>\n",
       "    </tr>\n",
       "    <tr>\n",
       "      <th>$500 million to $1 billion (USD)</th>\n",
       "      <td>5.0</td>\n",
       "      <td>NaN</td>\n",
       "    </tr>\n",
       "    <tr>\n",
       "      <th>-1</th>\n",
       "      <td>7.0</td>\n",
       "      <td>3.0</td>\n",
       "    </tr>\n",
       "    <tr>\n",
       "      <th>Less than $1 million (USD)</th>\n",
       "      <td>1.0</td>\n",
       "      <td>3.0</td>\n",
       "    </tr>\n",
       "    <tr>\n",
       "      <th>Unknown / Non-Applicable</th>\n",
       "      <td>55.0</td>\n",
       "      <td>5.0</td>\n",
       "    </tr>\n",
       "  </tbody>\n",
       "</table>\n",
       "</div>"
      ],
      "text/plain": [
       "python_yn                            0    1\n",
       "Revenue                                    \n",
       "$1 to $5 billion (USD)            16.0  NaN\n",
       "$1 to $5 million (USD)             8.0  NaN\n",
       "$10+ billion (USD)                45.0  5.0\n",
       "$100 to $500 million (USD)        12.0  3.0\n",
       "$25 to $100 million (USD)          3.0  NaN\n",
       "$5 to $10 billion (USD)           14.0  1.0\n",
       "$5 to $25 million (USD)            8.0  1.0\n",
       "$500 million to $1 billion (USD)   5.0  NaN\n",
       "-1                                 7.0  3.0\n",
       "Less than $1 million (USD)         1.0  3.0\n",
       "Unknown / Non-Applicable          55.0  5.0"
      ]
     },
     "execution_count": 100,
     "metadata": {},
     "output_type": "execute_result"
    }
   ],
   "source": [
    "pd.pivot_table(df_pivots, index = 'Revenue', columns = 'python_yn', values = 'avg_salary', aggfunc = 'count')"
   ]
  },
  {
   "cell_type": "code",
   "execution_count": 104,
   "id": "68ad3604",
   "metadata": {},
   "outputs": [],
   "source": [
    "from wordcloud import WordCloud, ImageColorGenerator, STOPWORDS\n",
    "from nltk.corpus import stopwords\n",
    "from nltk.tokenize import word_tokenize"
   ]
  },
  {
   "cell_type": "code",
   "execution_count": 105,
   "id": "4ed09506",
   "metadata": {},
   "outputs": [
    {
     "ename": "LookupError",
     "evalue": "\n**********************************************************************\n  Resource \u001b[93mstopwords\u001b[0m not found.\n  Please use the NLTK Downloader to obtain the resource:\n\n  \u001b[31m>>> import nltk\n  >>> nltk.download('stopwords')\n  \u001b[0m\n  For more information see: https://www.nltk.org/data.html\n\n  Attempted to load \u001b[93mcorpora/stopwords\u001b[0m\n\n  Searched in:\n    - 'C:\\\\Users\\\\gwena/nltk_data'\n    - 'C:\\\\Users\\\\gwena\\\\anaconda3\\\\nltk_data'\n    - 'C:\\\\Users\\\\gwena\\\\anaconda3\\\\share\\\\nltk_data'\n    - 'C:\\\\Users\\\\gwena\\\\anaconda3\\\\lib\\\\nltk_data'\n    - 'C:\\\\Users\\\\gwena\\\\AppData\\\\Roaming\\\\nltk_data'\n    - 'C:\\\\nltk_data'\n    - 'D:\\\\nltk_data'\n    - 'E:\\\\nltk_data'\n**********************************************************************\n",
     "output_type": "error",
     "traceback": [
      "\u001b[1;31m---------------------------------------------------------------------------\u001b[0m",
      "\u001b[1;31mLookupError\u001b[0m                               Traceback (most recent call last)",
      "\u001b[1;32m~\\anaconda3\\lib\\site-packages\\nltk\\corpus\\util.py\u001b[0m in \u001b[0;36m__load\u001b[1;34m(self)\u001b[0m\n\u001b[0;32m     83\u001b[0m                 \u001b[1;32mtry\u001b[0m\u001b[1;33m:\u001b[0m\u001b[1;33m\u001b[0m\u001b[1;33m\u001b[0m\u001b[0m\n\u001b[1;32m---> 84\u001b[1;33m                     \u001b[0mroot\u001b[0m \u001b[1;33m=\u001b[0m \u001b[0mnltk\u001b[0m\u001b[1;33m.\u001b[0m\u001b[0mdata\u001b[0m\u001b[1;33m.\u001b[0m\u001b[0mfind\u001b[0m\u001b[1;33m(\u001b[0m\u001b[1;34mf\"{self.subdir}/{zip_name}\"\u001b[0m\u001b[1;33m)\u001b[0m\u001b[1;33m\u001b[0m\u001b[1;33m\u001b[0m\u001b[0m\n\u001b[0m\u001b[0;32m     85\u001b[0m                 \u001b[1;32mexcept\u001b[0m \u001b[0mLookupError\u001b[0m\u001b[1;33m:\u001b[0m\u001b[1;33m\u001b[0m\u001b[1;33m\u001b[0m\u001b[0m\n",
      "\u001b[1;32m~\\anaconda3\\lib\\site-packages\\nltk\\data.py\u001b[0m in \u001b[0;36mfind\u001b[1;34m(resource_name, paths)\u001b[0m\n\u001b[0;32m    582\u001b[0m     \u001b[0mresource_not_found\u001b[0m \u001b[1;33m=\u001b[0m \u001b[1;34mf\"\\n{sep}\\n{msg}\\n{sep}\\n\"\u001b[0m\u001b[1;33m\u001b[0m\u001b[1;33m\u001b[0m\u001b[0m\n\u001b[1;32m--> 583\u001b[1;33m     \u001b[1;32mraise\u001b[0m \u001b[0mLookupError\u001b[0m\u001b[1;33m(\u001b[0m\u001b[0mresource_not_found\u001b[0m\u001b[1;33m)\u001b[0m\u001b[1;33m\u001b[0m\u001b[1;33m\u001b[0m\u001b[0m\n\u001b[0m\u001b[0;32m    584\u001b[0m \u001b[1;33m\u001b[0m\u001b[0m\n",
      "\u001b[1;31mLookupError\u001b[0m: \n**********************************************************************\n  Resource \u001b[93mstopwords\u001b[0m not found.\n  Please use the NLTK Downloader to obtain the resource:\n\n  \u001b[31m>>> import nltk\n  >>> nltk.download('stopwords')\n  \u001b[0m\n  For more information see: https://www.nltk.org/data.html\n\n  Attempted to load \u001b[93mcorpora/stopwords.zip/stopwords/\u001b[0m\n\n  Searched in:\n    - 'C:\\\\Users\\\\gwena/nltk_data'\n    - 'C:\\\\Users\\\\gwena\\\\anaconda3\\\\nltk_data'\n    - 'C:\\\\Users\\\\gwena\\\\anaconda3\\\\share\\\\nltk_data'\n    - 'C:\\\\Users\\\\gwena\\\\anaconda3\\\\lib\\\\nltk_data'\n    - 'C:\\\\Users\\\\gwena\\\\AppData\\\\Roaming\\\\nltk_data'\n    - 'C:\\\\nltk_data'\n    - 'D:\\\\nltk_data'\n    - 'E:\\\\nltk_data'\n**********************************************************************\n",
      "\nDuring handling of the above exception, another exception occurred:\n",
      "\u001b[1;31mLookupError\u001b[0m                               Traceback (most recent call last)",
      "\u001b[1;32m~\\AppData\\Local\\Temp/ipykernel_25584/4014772690.py\u001b[0m in \u001b[0;36m<module>\u001b[1;34m\u001b[0m\n\u001b[0;32m     12\u001b[0m \u001b[1;33m\u001b[0m\u001b[0m\n\u001b[0;32m     13\u001b[0m \u001b[1;33m\u001b[0m\u001b[0m\n\u001b[1;32m---> 14\u001b[1;33m \u001b[0mwords_filtered\u001b[0m \u001b[1;33m=\u001b[0m \u001b[0mpunctuation_stop\u001b[0m\u001b[1;33m(\u001b[0m\u001b[0mwords\u001b[0m\u001b[1;33m)\u001b[0m\u001b[1;33m\u001b[0m\u001b[1;33m\u001b[0m\u001b[0m\n\u001b[0m\u001b[0;32m     15\u001b[0m \u001b[1;33m\u001b[0m\u001b[0m\n\u001b[0;32m     16\u001b[0m \u001b[0mtext\u001b[0m \u001b[1;33m=\u001b[0m \u001b[1;34m\" \"\u001b[0m\u001b[1;33m.\u001b[0m\u001b[0mjoin\u001b[0m\u001b[1;33m(\u001b[0m\u001b[1;33m[\u001b[0m\u001b[0mele\u001b[0m \u001b[1;32mfor\u001b[0m \u001b[0mele\u001b[0m \u001b[1;32min\u001b[0m \u001b[0mwords_filtered\u001b[0m\u001b[1;33m]\u001b[0m\u001b[1;33m)\u001b[0m\u001b[1;33m\u001b[0m\u001b[1;33m\u001b[0m\u001b[0m\n",
      "\u001b[1;32m~\\AppData\\Local\\Temp/ipykernel_25584/4014772690.py\u001b[0m in \u001b[0;36mpunctuation_stop\u001b[1;34m(text)\u001b[0m\n\u001b[0;32m      4\u001b[0m     \u001b[1;34m\"\"\"remove punctuation and stop words\"\"\"\u001b[0m\u001b[1;33m\u001b[0m\u001b[1;33m\u001b[0m\u001b[0m\n\u001b[0;32m      5\u001b[0m     \u001b[0mfiltered\u001b[0m \u001b[1;33m=\u001b[0m \u001b[1;33m[\u001b[0m\u001b[1;33m]\u001b[0m\u001b[1;33m\u001b[0m\u001b[1;33m\u001b[0m\u001b[0m\n\u001b[1;32m----> 6\u001b[1;33m     \u001b[0mstop_words\u001b[0m \u001b[1;33m=\u001b[0m \u001b[0mset\u001b[0m\u001b[1;33m(\u001b[0m\u001b[0mstopwords\u001b[0m\u001b[1;33m.\u001b[0m\u001b[0mwords\u001b[0m\u001b[1;33m(\u001b[0m\u001b[1;34m'english'\u001b[0m\u001b[1;33m)\u001b[0m\u001b[1;33m)\u001b[0m\u001b[1;33m\u001b[0m\u001b[1;33m\u001b[0m\u001b[0m\n\u001b[0m\u001b[0;32m      7\u001b[0m     \u001b[0mword_tokens\u001b[0m \u001b[1;33m=\u001b[0m \u001b[0mword_tokenize\u001b[0m\u001b[1;33m(\u001b[0m\u001b[0mtext\u001b[0m\u001b[1;33m)\u001b[0m\u001b[1;33m\u001b[0m\u001b[1;33m\u001b[0m\u001b[0m\n\u001b[0;32m      8\u001b[0m     \u001b[1;32mfor\u001b[0m \u001b[0mw\u001b[0m \u001b[1;32min\u001b[0m \u001b[0mword_tokens\u001b[0m\u001b[1;33m:\u001b[0m\u001b[1;33m\u001b[0m\u001b[1;33m\u001b[0m\u001b[0m\n",
      "\u001b[1;32m~\\anaconda3\\lib\\site-packages\\nltk\\corpus\\util.py\u001b[0m in \u001b[0;36m__getattr__\u001b[1;34m(self, attr)\u001b[0m\n\u001b[0;32m    119\u001b[0m             \u001b[1;32mraise\u001b[0m \u001b[0mAttributeError\u001b[0m\u001b[1;33m(\u001b[0m\u001b[1;34m\"LazyCorpusLoader object has no attribute '__bases__'\"\u001b[0m\u001b[1;33m)\u001b[0m\u001b[1;33m\u001b[0m\u001b[1;33m\u001b[0m\u001b[0m\n\u001b[0;32m    120\u001b[0m \u001b[1;33m\u001b[0m\u001b[0m\n\u001b[1;32m--> 121\u001b[1;33m         \u001b[0mself\u001b[0m\u001b[1;33m.\u001b[0m\u001b[0m__load\u001b[0m\u001b[1;33m(\u001b[0m\u001b[1;33m)\u001b[0m\u001b[1;33m\u001b[0m\u001b[1;33m\u001b[0m\u001b[0m\n\u001b[0m\u001b[0;32m    122\u001b[0m         \u001b[1;31m# This looks circular, but its not, since __load() changes our\u001b[0m\u001b[1;33m\u001b[0m\u001b[1;33m\u001b[0m\u001b[0m\n\u001b[0;32m    123\u001b[0m         \u001b[1;31m# __class__ to something new:\u001b[0m\u001b[1;33m\u001b[0m\u001b[1;33m\u001b[0m\u001b[0m\n",
      "\u001b[1;32m~\\anaconda3\\lib\\site-packages\\nltk\\corpus\\util.py\u001b[0m in \u001b[0;36m__load\u001b[1;34m(self)\u001b[0m\n\u001b[0;32m     84\u001b[0m                     \u001b[0mroot\u001b[0m \u001b[1;33m=\u001b[0m \u001b[0mnltk\u001b[0m\u001b[1;33m.\u001b[0m\u001b[0mdata\u001b[0m\u001b[1;33m.\u001b[0m\u001b[0mfind\u001b[0m\u001b[1;33m(\u001b[0m\u001b[1;34mf\"{self.subdir}/{zip_name}\"\u001b[0m\u001b[1;33m)\u001b[0m\u001b[1;33m\u001b[0m\u001b[1;33m\u001b[0m\u001b[0m\n\u001b[0;32m     85\u001b[0m                 \u001b[1;32mexcept\u001b[0m \u001b[0mLookupError\u001b[0m\u001b[1;33m:\u001b[0m\u001b[1;33m\u001b[0m\u001b[1;33m\u001b[0m\u001b[0m\n\u001b[1;32m---> 86\u001b[1;33m                     \u001b[1;32mraise\u001b[0m \u001b[0me\u001b[0m\u001b[1;33m\u001b[0m\u001b[1;33m\u001b[0m\u001b[0m\n\u001b[0m\u001b[0;32m     87\u001b[0m \u001b[1;33m\u001b[0m\u001b[0m\n\u001b[0;32m     88\u001b[0m         \u001b[1;31m# Load the corpus.\u001b[0m\u001b[1;33m\u001b[0m\u001b[1;33m\u001b[0m\u001b[0m\n",
      "\u001b[1;32m~\\anaconda3\\lib\\site-packages\\nltk\\corpus\\util.py\u001b[0m in \u001b[0;36m__load\u001b[1;34m(self)\u001b[0m\n\u001b[0;32m     79\u001b[0m         \u001b[1;32melse\u001b[0m\u001b[1;33m:\u001b[0m\u001b[1;33m\u001b[0m\u001b[1;33m\u001b[0m\u001b[0m\n\u001b[0;32m     80\u001b[0m             \u001b[1;32mtry\u001b[0m\u001b[1;33m:\u001b[0m\u001b[1;33m\u001b[0m\u001b[1;33m\u001b[0m\u001b[0m\n\u001b[1;32m---> 81\u001b[1;33m                 \u001b[0mroot\u001b[0m \u001b[1;33m=\u001b[0m \u001b[0mnltk\u001b[0m\u001b[1;33m.\u001b[0m\u001b[0mdata\u001b[0m\u001b[1;33m.\u001b[0m\u001b[0mfind\u001b[0m\u001b[1;33m(\u001b[0m\u001b[1;34mf\"{self.subdir}/{self.__name}\"\u001b[0m\u001b[1;33m)\u001b[0m\u001b[1;33m\u001b[0m\u001b[1;33m\u001b[0m\u001b[0m\n\u001b[0m\u001b[0;32m     82\u001b[0m             \u001b[1;32mexcept\u001b[0m \u001b[0mLookupError\u001b[0m \u001b[1;32mas\u001b[0m \u001b[0me\u001b[0m\u001b[1;33m:\u001b[0m\u001b[1;33m\u001b[0m\u001b[1;33m\u001b[0m\u001b[0m\n\u001b[0;32m     83\u001b[0m                 \u001b[1;32mtry\u001b[0m\u001b[1;33m:\u001b[0m\u001b[1;33m\u001b[0m\u001b[1;33m\u001b[0m\u001b[0m\n",
      "\u001b[1;32m~\\anaconda3\\lib\\site-packages\\nltk\\data.py\u001b[0m in \u001b[0;36mfind\u001b[1;34m(resource_name, paths)\u001b[0m\n\u001b[0;32m    581\u001b[0m     \u001b[0msep\u001b[0m \u001b[1;33m=\u001b[0m \u001b[1;34m\"*\"\u001b[0m \u001b[1;33m*\u001b[0m \u001b[1;36m70\u001b[0m\u001b[1;33m\u001b[0m\u001b[1;33m\u001b[0m\u001b[0m\n\u001b[0;32m    582\u001b[0m     \u001b[0mresource_not_found\u001b[0m \u001b[1;33m=\u001b[0m \u001b[1;34mf\"\\n{sep}\\n{msg}\\n{sep}\\n\"\u001b[0m\u001b[1;33m\u001b[0m\u001b[1;33m\u001b[0m\u001b[0m\n\u001b[1;32m--> 583\u001b[1;33m     \u001b[1;32mraise\u001b[0m \u001b[0mLookupError\u001b[0m\u001b[1;33m(\u001b[0m\u001b[0mresource_not_found\u001b[0m\u001b[1;33m)\u001b[0m\u001b[1;33m\u001b[0m\u001b[1;33m\u001b[0m\u001b[0m\n\u001b[0m\u001b[0;32m    584\u001b[0m \u001b[1;33m\u001b[0m\u001b[0m\n\u001b[0;32m    585\u001b[0m \u001b[1;33m\u001b[0m\u001b[0m\n",
      "\u001b[1;31mLookupError\u001b[0m: \n**********************************************************************\n  Resource \u001b[93mstopwords\u001b[0m not found.\n  Please use the NLTK Downloader to obtain the resource:\n\n  \u001b[31m>>> import nltk\n  >>> nltk.download('stopwords')\n  \u001b[0m\n  For more information see: https://www.nltk.org/data.html\n\n  Attempted to load \u001b[93mcorpora/stopwords\u001b[0m\n\n  Searched in:\n    - 'C:\\\\Users\\\\gwena/nltk_data'\n    - 'C:\\\\Users\\\\gwena\\\\anaconda3\\\\nltk_data'\n    - 'C:\\\\Users\\\\gwena\\\\anaconda3\\\\share\\\\nltk_data'\n    - 'C:\\\\Users\\\\gwena\\\\anaconda3\\\\lib\\\\nltk_data'\n    - 'C:\\\\Users\\\\gwena\\\\AppData\\\\Roaming\\\\nltk_data'\n    - 'C:\\\\nltk_data'\n    - 'D:\\\\nltk_data'\n    - 'E:\\\\nltk_data'\n**********************************************************************\n"
     ]
    }
   ],
   "source": [
    "words = \" \".join(df['Job Description'])\n",
    "\n",
    "def punctuation_stop(text):\n",
    "    \"\"\"remove punctuation and stop words\"\"\"\n",
    "    filtered = []\n",
    "    stop_words = set(stopwords.words('english'))\n",
    "    word_tokens = word_tokenize(text)\n",
    "    for w in word_tokens:\n",
    "        if w not in stop_words and w.isalpha():\n",
    "            filtered.append(w.lower())\n",
    "    return filtered\n",
    "\n",
    "\n",
    "words_filtered = punctuation_stop(words)\n",
    "\n",
    "text = \" \".join([ele for ele in words_filtered])\n",
    "\n",
    "wc= WordCloud(background_color=\"white\", random_state=1,stopwords=STOPWORDS, max_words = 2000, width =800, height = 1500)\n",
    "wc.generate(text)\n",
    "\n",
    "plt.figure(figsize=[10,10])\n",
    "plt.imshow(interpolation=\"bilinear\")\n",
    "plt.axis('off')\n",
    "plt.show()"
   ]
  },
  {
   "cell_type": "code",
   "execution_count": null,
   "id": "377d61b1",
   "metadata": {},
   "outputs": [],
   "source": []
  }
 ],
 "metadata": {
  "kernelspec": {
   "display_name": "Python 3 (ipykernel)",
   "language": "python",
   "name": "python3"
  },
  "language_info": {
   "codemirror_mode": {
    "name": "ipython",
    "version": 3
   },
   "file_extension": ".py",
   "mimetype": "text/x-python",
   "name": "python",
   "nbconvert_exporter": "python",
   "pygments_lexer": "ipython3",
   "version": "3.9.7"
  }
 },
 "nbformat": 4,
 "nbformat_minor": 5
}
